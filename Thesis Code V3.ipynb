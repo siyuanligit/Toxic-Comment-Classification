{
 "cells": [
  {
   "cell_type": "markdown",
   "metadata": {},
   "source": [
    "# Load Dependencies"
   ]
  },
  {
   "cell_type": "code",
   "execution_count": 1,
   "metadata": {},
   "outputs": [],
   "source": [
    "# -*- coding: unicode -*-"
   ]
  },
  {
   "cell_type": "code",
   "execution_count": 61,
   "metadata": {},
   "outputs": [],
   "source": [
    "import sys, os, re, csv, codecs, numpy as np, pandas as pd\n",
    "# os.environ[\"CUDA_DEVICE_ORDER\"] = \"PCI_BUS_ID\"   # see issue #152\n",
    "# os.environ[\"CUDA_VISIBLE_DEVICES\"] = \"\"\n",
    "import tensorflow as tf\n",
    "from keras import backend as K\n",
    "from keras.preprocessing.text import Tokenizer\n",
    "from keras.preprocessing.sequence import pad_sequences\n",
    "from matplotlib import pyplot as plt\n",
    "import gensim\n",
    "import nltk\n",
    "from sklearn import metrics\n",
    "from sklearn.model_selection import train_test_split\n",
    "from keras.layers import Dense, Input, LSTM, Embedding, Dropout, Activation, GRU\n",
    "from keras.layers import Bidirectional, BatchNormalization, GlobalMaxPooling1D\n",
    "from keras.models import Model, Sequential\n",
    "from keras.utils import plot_model\n",
    "from keras import initializers, regularizers, constraints, optimizers, layers\n",
    "from keras.callbacks import TensorBoard, EarlyStopping, Callback"
   ]
  },
  {
   "cell_type": "code",
   "execution_count": 3,
   "metadata": {},
   "outputs": [],
   "source": [
    "from keras.backend.tensorflow_backend import set_session\n",
    "\n",
    "config = tf.ConfigProto()\n",
    "config.gpu_options.per_process_gpu_memory_fraction = 0.3\n",
    "set_session(tf.Session(config=config))"
   ]
  },
  {
   "cell_type": "code",
   "execution_count": 4,
   "metadata": {},
   "outputs": [],
   "source": [
    "assert gensim.models.doc2vec.FAST_VERSION > -1"
   ]
  },
  {
   "cell_type": "code",
   "execution_count": 5,
   "metadata": {},
   "outputs": [
    {
     "name": "stdout",
     "output_type": "stream",
     "text": [
      "[nltk_data] Downloading package stopwords to\n",
      "[nltk_data]     C:\\Users\\insuf\\AppData\\Roaming\\nltk_data...\n",
      "[nltk_data]   Package stopwords is already up-to-date!\n",
      "[nltk_data] Downloading package punkt to\n",
      "[nltk_data]     C:\\Users\\insuf\\AppData\\Roaming\\nltk_data...\n",
      "[nltk_data]   Package punkt is already up-to-date!\n"
     ]
    },
    {
     "data": {
      "text/plain": [
       "True"
      ]
     },
     "execution_count": 5,
     "metadata": {},
     "output_type": "execute_result"
    }
   ],
   "source": [
    "nltk.download('stopwords')\n",
    "nltk.download('punkt')"
   ]
  },
  {
   "cell_type": "code",
   "execution_count": 6,
   "metadata": {},
   "outputs": [
    {
     "name": "stdout",
     "output_type": "stream",
     "text": [
      "[name: \"/cpu:0\"\n",
      "device_type: \"CPU\"\n",
      "memory_limit: 268435456\n",
      "locality {\n",
      "}\n",
      "incarnation: 13134623936600785355\n",
      ", name: \"/gpu:0\"\n",
      "device_type: \"GPU\"\n",
      "memory_limit: 3129039257\n",
      "locality {\n",
      "  bus_id: 1\n",
      "}\n",
      "incarnation: 18284184963739995404\n",
      "physical_device_desc: \"device: 0, name: GeForce GTX 1060 6GB, pci bus id: 0000:01:00.0\"\n",
      "]\n"
     ]
    }
   ],
   "source": [
    "from tensorflow.python.client import device_lib\n",
    "print(device_lib.list_local_devices())"
   ]
  },
  {
   "cell_type": "markdown",
   "metadata": {},
   "source": [
    "# Data Preprocessing"
   ]
  },
  {
   "cell_type": "code",
   "execution_count": 7,
   "metadata": {},
   "outputs": [],
   "source": [
    "from numpy.random import seed\n",
    "seed(123)\n",
    "from tensorflow import set_random_seed\n",
    "set_random_seed(123)"
   ]
  },
  {
   "cell_type": "code",
   "execution_count": 8,
   "metadata": {},
   "outputs": [],
   "source": [
    "train = pd.read_csv('train_clean.csv')\n",
    "train.comment_text = train.comment_text.astype(str)"
   ]
  },
  {
   "cell_type": "code",
   "execution_count": 254,
   "metadata": {},
   "outputs": [],
   "source": [
    "list_classes = list_classes = [\"toxic\", \"severe_toxic\", \"obscene\", \"threat\", \"insult\", \"identity_hate\"]\n",
    "y = train[list_classes].values\n",
    "list_sentences_train = train[\"comment_text\"]"
   ]
  },
  {
   "cell_type": "code",
   "execution_count": 10,
   "metadata": {},
   "outputs": [
    {
     "data": {
      "text/plain": [
       "223043"
      ]
     },
     "execution_count": 10,
     "metadata": {},
     "output_type": "execute_result"
    }
   ],
   "source": [
    "max_features = 20000\n",
    "tokenizer = Tokenizer(num_words=max_features)\n",
    "tokenizer.fit_on_texts(list(list_sentences_train))\n",
    "list_tokenized_train = tokenizer.texts_to_sequences(list_sentences_train)\n",
    "len(tokenizer.word_index)"
   ]
  },
  {
   "cell_type": "code",
   "execution_count": 11,
   "metadata": {},
   "outputs": [],
   "source": [
    "# totalNumWords = [len(one_comment) for one_comment in list_tokenized_train]\n",
    "# plt.hist(totalNumWords)\n",
    "# plt.show()"
   ]
  },
  {
   "cell_type": "code",
   "execution_count": 12,
   "metadata": {},
   "outputs": [],
   "source": [
    "# meanLen = np.mean(totalNumWords)\n",
    "# stdLen = np.std(totalNumWords)\n",
    "# ub = meanLen + 2.576*stdLen/np.sqrt(len(totalNumWords))\n",
    "# ub"
   ]
  },
  {
   "cell_type": "code",
   "execution_count": 13,
   "metadata": {},
   "outputs": [],
   "source": [
    "maxlen = 100\n",
    "X_t = pad_sequences(list_tokenized_train,maxlen=maxlen,padding='post')"
   ]
  },
  {
   "cell_type": "code",
   "execution_count": 109,
   "metadata": {},
   "outputs": [
    {
     "data": {
      "text/plain": [
       "array([  53, 2398,   13, 1351, 3461,   69, 4052, 2451,   21,   92,   41,\n",
       "        898,  177,    0,    0,    0,    0,    0,    0,    0,    0,    0,\n",
       "          0,    0,    0,    0,    0,    0,    0,    0,    0,    0,    0,\n",
       "          0,    0,    0,    0,    0,    0,    0,    0,    0,    0,    0,\n",
       "          0,    0,    0,    0,    0,    0,    0,    0,    0,    0,    0,\n",
       "          0,    0,    0,    0,    0,    0,    0,    0,    0,    0,    0,\n",
       "          0,    0,    0,    0,    0,    0,    0,    0,    0,    0,    0,\n",
       "          0,    0,    0,    0,    0,    0,    0,    0,    0,    0,    0,\n",
       "          0,    0,    0,    0,    0,    0,    0,    0,    0,    0,    0,\n",
       "          0])"
      ]
     },
     "execution_count": 109,
     "metadata": {},
     "output_type": "execute_result"
    }
   ],
   "source": [
    "X_t[1]"
   ]
  },
  {
   "cell_type": "code",
   "execution_count": 111,
   "metadata": {},
   "outputs": [
    {
     "data": {
      "text/plain": [
       "'daww he matches this background colour im seemingly stuck with thanks talk january utc'"
      ]
     },
     "execution_count": 111,
     "metadata": {},
     "output_type": "execute_result"
    }
   ],
   "source": [
    "list_sentences_train[1]"
   ]
  },
  {
   "cell_type": "code",
   "execution_count": 14,
   "metadata": {},
   "outputs": [],
   "source": [
    "# list_sentences_train"
   ]
  },
  {
   "cell_type": "code",
   "execution_count": 15,
   "metadata": {},
   "outputs": [],
   "source": [
    "# X_t[1]"
   ]
  },
  {
   "cell_type": "code",
   "execution_count": 16,
   "metadata": {},
   "outputs": [],
   "source": [
    "# description = train.comment_text.values.tolist()\n",
    "# stop_words = set(nltk.corpus.stopwords.words('english'))\n",
    "\n",
    "\n",
    "# # Function to filter stop words from tokens for each sentence\n",
    "# def sentence_filter(sentence_token, stop_words):\n",
    "#     filtered = []\n",
    "#     for token in sentence_token:\n",
    "#         if not token in stop_words:\n",
    "#             filtered.append(token)\n",
    "#     return filtered\n",
    "\n",
    "\n",
    "# # Input description, tokenize each sentence and return token for each sentence without stopping words\n",
    "# def sentence_tokenizer(description, stop_words):\n",
    "#     value = []\n",
    "#     for sentence in description:\n",
    "#         sentence = sentence.lower()\n",
    "#         tokenizer_ = nltk.tokenize.RegexpTokenizer(r'[a-zA-Z]+')\n",
    "#         sentence_token = tokenizer_.tokenize(sentence)\n",
    "#         # sentence_token = nltk.word_tokenize(sentence)\n",
    "#         filtered_token = sentence_filter(sentence_token, stop_words)\n",
    "#         value.append(filtered_token)\n",
    "#     return value\n",
    "\n",
    "\n",
    "# # Tokenize the sentence\n",
    "# description_token = sentence_tokenizer(description, stop_words)"
   ]
  },
  {
   "cell_type": "code",
   "execution_count": 17,
   "metadata": {},
   "outputs": [],
   "source": [
    "# len(description_token)"
   ]
  },
  {
   "cell_type": "code",
   "execution_count": 18,
   "metadata": {},
   "outputs": [],
   "source": [
    "# Skip gram model with minimum word count = 10 and output vector of length 300\n",
    "# model_sg = gensim.models.Word2Vec(description_token, window=2, min_count=10, size=300, workers=4, seed=123, iter=10)\n",
    "\n",
    "# CBOW(continuous bag of words) model\n",
    "# model_cbow = gensim.models.Word2Vec(description_token, window=2, min_count=10, size=300, workers=4, seed=123, iter=10)"
   ]
  },
  {
   "cell_type": "code",
   "execution_count": 19,
   "metadata": {},
   "outputs": [],
   "source": [
    "# model_sg.save('model_sg')"
   ]
  },
  {
   "cell_type": "code",
   "execution_count": 20,
   "metadata": {},
   "outputs": [],
   "source": [
    "# model_cbow.save('model_cbow')"
   ]
  },
  {
   "cell_type": "code",
   "execution_count": 21,
   "metadata": {},
   "outputs": [
    {
     "name": "stdout",
     "output_type": "stream",
     "text": [
      "Loaded 25653 word vectors.\n",
      "total embedded: 19861 common words\n"
     ]
    }
   ],
   "source": [
    "model_sg = gensim.models.Word2Vec.load('model_sg')\n",
    "\n",
    "embed_size = 300\n",
    "embeddings_index = dict()\n",
    "for word in model_sg.wv.vocab:\n",
    "    embeddings_index[word] = model_sg.wv[word]\n",
    "print('Loaded %s word vectors.' % len(embeddings_index))\n",
    "\n",
    "nb_words = min(max_features, len(tokenizer.word_index))\n",
    "embedding_matrix = np.zeros((nb_words, embed_size))\n",
    "\n",
    "embeddedCount = 0\n",
    "for word, i in tokenizer.word_index.items():\n",
    "    if i >= max_features: continue\n",
    "    embedding_vector = embeddings_index.get(word)\n",
    "    if embedding_vector is not None:\n",
    "        # words not found in embedding index will be all-zeros.\n",
    "        embedding_matrix[i] = embedding_vector\n",
    "        embeddedCount += 1\n",
    "print('total embedded:',embeddedCount,'common words')"
   ]
  },
  {
   "cell_type": "code",
   "execution_count": 123,
   "metadata": {},
   "outputs": [
    {
     "data": {
      "text/plain": [
       "2451"
      ]
     },
     "execution_count": 123,
     "metadata": {},
     "output_type": "execute_result"
    }
   ],
   "source": [
    "tokenizer.word_index['stuck']"
   ]
  },
  {
   "cell_type": "code",
   "execution_count": 22,
   "metadata": {},
   "outputs": [],
   "source": [
    "# model_cbow = gensim.models.Word2Vec.load('model_cbow')\n",
    "\n",
    "# embed_size = 300\n",
    "# embeddings_index = dict()\n",
    "# for word in model_cbow.wv.vocab:\n",
    "#     embeddings_index[word] = model_cbow.wv[word]\n",
    "# print('Loaded %s word vectors.' % len(embeddings_index))\n",
    "\n",
    "# nb_words = min(max_features, len(tokenizer.word_index))\n",
    "# embedding_matrix = np.zeros((nb_words, embed_size))\n",
    "\n",
    "# embeddedCount = 0\n",
    "# for word, i in tokenizer.word_index.items():\n",
    "#     if i >= max_features: continue\n",
    "#     embedding_vector = embeddings_index.get(word)\n",
    "#     if embedding_vector is not None:\n",
    "#         # words not found in embedding index will be all-zeros.\n",
    "#         embedding_matrix[i] = embedding_vector\n",
    "#         embeddedCount += 1\n",
    "# print('total embedded:',embeddedCount,'common words')"
   ]
  },
  {
   "cell_type": "code",
   "execution_count": 23,
   "metadata": {},
   "outputs": [
    {
     "data": {
      "text/plain": [
       "(20000, 300)"
      ]
     },
     "execution_count": 23,
     "metadata": {},
     "output_type": "execute_result"
    }
   ],
   "source": [
    "embedding_matrix.shape"
   ]
  },
  {
   "cell_type": "code",
   "execution_count": 24,
   "metadata": {},
   "outputs": [],
   "source": [
    "# model_sg.wv.most_similar('rape')"
   ]
  },
  {
   "cell_type": "code",
   "execution_count": 25,
   "metadata": {},
   "outputs": [],
   "source": [
    "def auc(y_true, y_pred):\n",
    "     auc = tf.metrics.auc(y_true, y_pred)[1]\n",
    "     K.get_session().run(tf.local_variables_initializer())\n",
    "     return auc"
   ]
  },
  {
   "cell_type": "code",
   "execution_count": 42,
   "metadata": {},
   "outputs": [],
   "source": [
    "def precision(y_true, y_pred):\n",
    "    tp = tf.metrics.true_positives(y_true, y_pred)[1]\n",
    "    fp = tf.metrics.false_positives(y_true, y_pred)[1]\n",
    "    precision = tp/(tp+fp)\n",
    "    K.get_session().run(tf.local_variables_initializer())\n",
    "    return precision"
   ]
  },
  {
   "cell_type": "code",
   "execution_count": 43,
   "metadata": {},
   "outputs": [],
   "source": [
    "def recall(y_true, y_pred):\n",
    "    tp = tf.metrics.true_positives(y_true, y_pred)[1]\n",
    "    fn = tf.metrics.false_negatives(y_true, y_pred)[1]\n",
    "    recall = tp/(tp+fn)\n",
    "    K.get_session().run(tf.local_variables_initializer())\n",
    "    return recall"
   ]
  },
  {
   "cell_type": "code",
   "execution_count": 77,
   "metadata": {},
   "outputs": [],
   "source": [
    "class Metrics(Callback):\n",
    "    def on_train_begin(self, logs={}):\n",
    "        self.val_recalls = []\n",
    "        self.val_precisions = []\n",
    "\n",
    "    def on_batch_end(self, epoch, logs={}):\n",
    "        val_predict = (np.asarray(self.model.predict(self.validation_data[0]))).round()\n",
    "        val_targ = self.validation_data[1]\n",
    "        _val_recall = metrics.recall_score(val_targ, val_predict)\n",
    "        _val_precision = metrics.precision_score(val_targ, val_predict)\n",
    "        self.val_recalls.append(_val_recall)\n",
    "        self.val_precisions.append(_val_precision)\n",
    "        print(\" — val_precision: {} — val_recall {}\".format(_val_precision, _val_recall))\n",
    "        return\n",
    "\n",
    "pr = Metrics()"
   ]
  },
  {
   "cell_type": "code",
   "execution_count": 255,
   "metadata": {},
   "outputs": [
    {
     "name": "stderr",
     "output_type": "stream",
     "text": [
      "C:\\Users\\insuf\\AppData\\Local\\conda\\conda\\envs\\python352\\lib\\site-packages\\sklearn\\model_selection\\_split.py:2026: FutureWarning: From version 0.21, test_size will always complement train_size unless both are specified.\n",
      "  FutureWarning)\n"
     ]
    }
   ],
   "source": [
    "X_train, X_val, y_train, y_val = train_test_split(X_t, y, train_size=0.9, random_state=123)"
   ]
  },
  {
   "cell_type": "code",
   "execution_count": 256,
   "metadata": {},
   "outputs": [
    {
     "name": "stdout",
     "output_type": "stream",
     "text": [
      "_________________________________________________________________\n",
      "Layer (type)                 Output Shape              Param #   \n",
      "=================================================================\n",
      "embedding_16 (Embedding)     (None, 100, 25)           500000    \n",
      "_________________________________________________________________\n",
      "bidirectional_16 (Bidirectio (None, 200)               100800    \n",
      "_________________________________________________________________\n",
      "dense_31 (Dense)             (None, 50)                10050     \n",
      "_________________________________________________________________\n",
      "dropout_16 (Dropout)         (None, 50)                0         \n",
      "_________________________________________________________________\n",
      "dense_32 (Dense)             (None, 6)                 306       \n",
      "=================================================================\n",
      "Total params: 611,156\n",
      "Trainable params: 611,156\n",
      "Non-trainable params: 0\n",
      "_________________________________________________________________\n"
     ]
    }
   ],
   "source": [
    "model = Sequential()\n",
    "model.add(Embedding(max_features,embed_size,weights=[embedding_matrix],input_length=maxlen))\n",
    "model.add(Bidirectional(LSTM(100,dropout=0.1,recurrent_dropout=0.1)))\n",
    "model.add(Dense(50, activation=\"relu\"))\n",
    "model.add(Dropout(0.1))\n",
    "model.add(Dense(6, activation=\"sigmoid\"))\n",
    "model.compile(loss='binary_crossentropy',optimizer='adam',metrics=[auc])\n",
    "model.summary()"
   ]
  },
  {
   "cell_type": "code",
   "execution_count": 249,
   "metadata": {},
   "outputs": [],
   "source": [
    "# plot_model(model, to_file='model.png')"
   ]
  },
  {
   "cell_type": "code",
   "execution_count": 250,
   "metadata": {},
   "outputs": [],
   "source": [
    "early = EarlyStopping(monitor=\"val_loss\", mode=\"min\")"
   ]
  },
  {
   "cell_type": "code",
   "execution_count": 257,
   "metadata": {},
   "outputs": [
    {
     "name": "stdout",
     "output_type": "stream",
     "text": [
      "Epoch 1/4\n",
      "143613/143613 [==============================] - 158s 1ms/step - loss: 0.0929 - auc: 0.8201\n",
      "Epoch 2/4\n",
      "143613/143613 [==============================] - 155s 1ms/step - loss: 0.0548 - auc: 0.9441\n",
      "Epoch 3/4\n",
      "143613/143613 [==============================] - 155s 1ms/step - loss: 0.0507 - auc: 0.9602\n",
      "Epoch 4/4\n",
      "143613/143613 [==============================] - 154s 1ms/step - loss: 0.0483 - auc: 0.9669\n"
     ]
    }
   ],
   "source": [
    "with tf.device('/gpu:0'):\n",
    "    history = model.fit(X_train,y_train,batch_size=256,epochs=4)"
   ]
  },
  {
   "cell_type": "code",
   "execution_count": 260,
   "metadata": {},
   "outputs": [
    {
     "name": "stdout",
     "output_type": "stream",
     "text": [
      "Validation Precision: [0.85296381832178603, 0.5, 0.83445491251682369, 0.0, 0.74371069182389937, 0.0],\n",
      "\n",
      "Validation Recall: [0.76308539944903586, 0.16, 0.76354679802955661, 0.0, 0.63489932885906042, 0.0]\n"
     ]
    },
    {
     "name": "stderr",
     "output_type": "stream",
     "text": [
      "C:\\Users\\insuf\\AppData\\Local\\conda\\conda\\envs\\python352\\lib\\site-packages\\sklearn\\metrics\\classification.py:1135: UndefinedMetricWarning: Precision is ill-defined and being set to 0.0 due to no predicted samples.\n",
      "  'precision', 'predicted', average, warn_for)\n"
     ]
    }
   ],
   "source": [
    "val_predict = (np.asarray(model.predict([X_val], batch_size=512))).round()\n",
    "val_target = y_val\n",
    "\n",
    "val_precision = []\n",
    "val_recall = []\n",
    "for i in range(6):\n",
    "    val_precision.append(metrics.precision_score(val_target[:,i], val_predict[:,i]))\n",
    "    val_recall.append(metrics.recall_score(val_target[:,i], val_predict[:,i]))\n",
    "\n",
    "print(\"Validation Precision: {},\\n\\nValidation Recall: {}\".format(val_precision, val_recall))"
   ]
  },
  {
   "cell_type": "code",
   "execution_count": null,
   "metadata": {},
   "outputs": [],
   "source": [
    "plt.plot(history.history['auc'], label=\"AUC\")\n",
    "plt.plot(history.history['val_auc'], label=\"Validation AUC\")\n",
    "plt.legend()\n",
    "plt.show()"
   ]
  },
  {
   "cell_type": "code",
   "execution_count": null,
   "metadata": {},
   "outputs": [],
   "source": [
    "plt.plot(history.history['loss'], label=\"Loss\")\n",
    "plt.plot(history.history['val_loss'], label=\"Validation Loss\")\n",
    "plt.legend()\n",
    "plt.show()"
   ]
  },
  {
   "cell_type": "markdown",
   "metadata": {},
   "source": [
    "## Try to Solve Underfitting"
   ]
  },
  {
   "cell_type": "code",
   "execution_count": 102,
   "metadata": {},
   "outputs": [
    {
     "name": "stdout",
     "output_type": "stream",
     "text": [
      "_________________________________________________________________\n",
      "Layer (type)                 Output Shape              Param #   \n",
      "=================================================================\n",
      "embedding_8 (Embedding)      (None, 100, 300)          6000000   \n",
      "_________________________________________________________________\n",
      "bidirectional_8 (Bidirection (None, 200)               320800    \n",
      "_________________________________________________________________\n",
      "dense_15 (Dense)             (None, 50)                10050     \n",
      "_________________________________________________________________\n",
      "dropout_8 (Dropout)          (None, 50)                0         \n",
      "_________________________________________________________________\n",
      "dense_16 (Dense)             (None, 6)                 306       \n",
      "=================================================================\n",
      "Total params: 6,331,156\n",
      "Trainable params: 6,331,156\n",
      "Non-trainable params: 0\n",
      "_________________________________________________________________\n"
     ]
    }
   ],
   "source": [
    "model1 = Sequential()\n",
    "model1.add(Embedding(max_features,embed_size,weights=[embedding_matrix],input_length=maxlen))\n",
    "model1.add(Bidirectional(LSTM(100,dropout=0.1,recurrent_dropout=0.1)))\n",
    "model1.add(Dense(50, activation=\"relu\"))\n",
    "model1.add(Dropout(0.1))\n",
    "model1.add(Dense(6, activation=\"sigmoid\"))\n",
    "model1.compile(loss='binary_crossentropy',optimizer='adam',metrics=[auc])\n",
    "model1.summary()"
   ]
  },
  {
   "cell_type": "code",
   "execution_count": 194,
   "metadata": {},
   "outputs": [],
   "source": [
    "plot_model(model1, to_file='model.png')"
   ]
  },
  {
   "cell_type": "code",
   "execution_count": 103,
   "metadata": {},
   "outputs": [
    {
     "name": "stdout",
     "output_type": "stream",
     "text": [
      "Train on 143613 samples, validate on 15958 samples\n",
      "Epoch 1/10\n",
      "143613/143613 [==============================] - 166s 1ms/step - loss: 0.0773 - auc: 0.8765 - val_loss: 0.0455 - val_auc: 0.9548\n",
      "Epoch 2/10\n",
      "143613/143613 [==============================] - 181s 1ms/step - loss: 0.0477 - auc: 0.9647 - val_loss: 0.0428 - val_auc: 0.9704\n",
      "Epoch 3/10\n",
      "143613/143613 [==============================] - 179s 1ms/step - loss: 0.0425 - auc: 0.9737 - val_loss: 0.0422 - val_auc: 0.9762\n",
      "Epoch 4/10\n",
      "143613/143613 [==============================] - 180s 1ms/step - loss: 0.0380 - auc: 0.9782 - val_loss: 0.0426 - val_auc: 0.9797\n"
     ]
    }
   ],
   "source": [
    "with tf.device('/gpu:0'):\n",
    "    history1 = model1.fit(X_train,y_train,batch_size=256,epochs=10,validation_data=(X_val, y_val), callbacks=[early])"
   ]
  },
  {
   "cell_type": "code",
   "execution_count": 106,
   "metadata": {},
   "outputs": [
    {
     "data": {
      "image/png": "[encoded data removed]",
      "text/plain": [
       "<Figure size 432x288 with 1 Axes>"
      ]
     },
     "metadata": {},
     "output_type": "display_data"
    }
   ],
   "source": [
    "plt.plot(history1.history['auc'], label=\"AUC\")\n",
    "plt.plot(history1.history['val_auc'], label=\"Validation AUC\")\n",
    "plt.legend()\n",
    "plt.show()"
   ]
  },
  {
   "cell_type": "code",
   "execution_count": 107,
   "metadata": {},
   "outputs": [
    {
     "data": {
      "image/png": "[encoded data removed]",
      "text/plain": [
       "<Figure size 432x288 with 1 Axes>"
      ]
     },
     "metadata": {},
     "output_type": "display_data"
    }
   ],
   "source": [
    "plt.plot(history1.history['loss'], label=\"Loss\")\n",
    "plt.plot(history1.history['val_loss'], label=\"Validation Loss\")\n",
    "plt.legend()\n",
    "plt.show()"
   ]
  },
  {
   "cell_type": "code",
   "execution_count": 143,
   "metadata": {},
   "outputs": [
    {
     "name": "stdout",
     "output_type": "stream",
     "text": [
      "Validation Precision: [0.86724960254372019, 0.47999999999999998, 0.83157894736842108, 0.80000000000000004, 0.77041602465331283, 0.58620689655172409],\n",
      "\n",
      "Validation Recall: [0.75137741046831952, 0.080000000000000002, 0.77832512315270941, 0.088888888888888892, 0.67114093959731547, 0.29059829059829062],\n",
      "\n",
      "Validation F1: [0.80516605166051658, 0.13714285714285715, 0.8040712468193385, 0.15999999999999998, 0.71736011477761841, 0.38857142857142862]\n"
     ]
    }
   ],
   "source": [
    "val_predict1 = (np.asarray(model1.predict([X_val], batch_size=512))).round()\n",
    "\n",
    "val_precision1 = []\n",
    "val_recall1 = []\n",
    "val_f11 = []\n",
    "for i in range(6):\n",
    "    val_precision1.append(metrics.precision_score(val_target[:,i], val_predict1[:,i]))\n",
    "    val_recall1.append(metrics.recall_score(val_target[:,i], val_predict1[:,i]))\n",
    "    val_f11.append(metrics.f1_score(val_target[:,i], val_predict1[:,i]))\n",
    "\n",
    "print(\"Validation Precision: {},\\n\\nValidation Recall: {},\\n\\nValidation F1: {}\".format(val_precision1, val_recall1, val_f11))"
   ]
  },
  {
   "cell_type": "code",
   "execution_count": 212,
   "metadata": {},
   "outputs": [
    {
     "data": {
      "image/png": "[encoded data removed]",
      "text/plain": [
       "<Figure size 432x288 with 1 Axes>"
      ]
     },
     "metadata": {},
     "output_type": "display_data"
    }
   ],
   "source": [
    "names = [\"Toxic\", \"Severe Toxic\", \"Obscene\", \"Threat\", \"Insult\", \"Identity Hate\"]\n",
    "\n",
    "plt.bar(np.arange(6)-0.3/2, val_precision1, 0.3, label=\"Baseline Validation Precision\", tick_label=names)\n",
    "plt.bar(np.arange(6)+0.3/2, val_recall1, 0.3, label=\"Baseline Validation Recall\", tick_label=names)\n",
    "\n",
    "plt.legend(loc='right', bbox_to_anchor=(1.6,0.5))\n",
    "plt.show()"
   ]
  },
  {
   "cell_type": "markdown",
   "metadata": {},
   "source": [
    "# Use GRU instead of LSTM"
   ]
  },
  {
   "cell_type": "code",
   "execution_count": 125,
   "metadata": {},
   "outputs": [
    {
     "name": "stdout",
     "output_type": "stream",
     "text": [
      "_________________________________________________________________\n",
      "Layer (type)                 Output Shape              Param #   \n",
      "=================================================================\n",
      "embedding_10 (Embedding)     (None, 100, 300)          6000000   \n",
      "_________________________________________________________________\n",
      "bidirectional_10 (Bidirectio (None, 200)               240600    \n",
      "_________________________________________________________________\n",
      "dense_19 (Dense)             (None, 50)                10050     \n",
      "_________________________________________________________________\n",
      "dropout_10 (Dropout)         (None, 50)                0         \n",
      "_________________________________________________________________\n",
      "dense_20 (Dense)             (None, 6)                 306       \n",
      "=================================================================\n",
      "Total params: 6,250,956\n",
      "Trainable params: 6,250,956\n",
      "Non-trainable params: 0\n",
      "_________________________________________________________________\n"
     ]
    }
   ],
   "source": [
    "model2 = Sequential()\n",
    "model2.add(Embedding(max_features,embed_size,weights=[embedding_matrix],input_length=maxlen))\n",
    "model2.add(Bidirectional(GRU(100,dropout=0.1,recurrent_dropout=0.1)))\n",
    "model2.add(Dense(50, activation=\"relu\"))\n",
    "model2.add(Dropout(0.1))\n",
    "model2.add(Dense(6, activation=\"sigmoid\"))\n",
    "model2.compile(loss='binary_crossentropy',optimizer='adam',metrics=[auc])\n",
    "model2.summary()"
   ]
  },
  {
   "cell_type": "code",
   "execution_count": 38,
   "metadata": {},
   "outputs": [],
   "source": [
    "# plot_model(model2, to_file='model2.png')"
   ]
  },
  {
   "cell_type": "code",
   "execution_count": 126,
   "metadata": {},
   "outputs": [
    {
     "name": "stdout",
     "output_type": "stream",
     "text": [
      "Train on 143613 samples, validate on 15958 samples\n",
      "Epoch 1/10\n",
      "143613/143613 [==============================] - 133s 923us/step - loss: 0.0736 - auc: 0.8847 - val_loss: 0.0443 - val_auc: 0.9601\n",
      "Epoch 2/10\n",
      "143613/143613 [==============================] - 146s 1ms/step - loss: 0.0460 - auc: 0.9684 - val_loss: 0.0423 - val_auc: 0.9731\n",
      "Epoch 3/10\n",
      "143613/143613 [==============================] - 148s 1ms/step - loss: 0.0409 - auc: 0.9761 - val_loss: 0.0423 - val_auc: 0.9782\n"
     ]
    }
   ],
   "source": [
    "with tf.device('/gpu:0'):\n",
    "    history2 = model2.fit(X_train,y_train,batch_size=256,epochs=10,validation_data=(X_val, y_val), callbacks=[early])"
   ]
  },
  {
   "cell_type": "code",
   "execution_count": 127,
   "metadata": {},
   "outputs": [
    {
     "data": {
      "image/png": "[encoded data removed]",
      "text/plain": [
       "<Figure size 432x288 with 1 Axes>"
      ]
     },
     "metadata": {},
     "output_type": "display_data"
    }
   ],
   "source": [
    "plt.plot(history2.history['auc'], label=\"AUC\")\n",
    "plt.plot(history2.history['val_auc'], label=\"Validation AUC\")\n",
    "plt.legend()\n",
    "plt.show()"
   ]
  },
  {
   "cell_type": "code",
   "execution_count": 128,
   "metadata": {},
   "outputs": [
    {
     "data": {
      "image/png": "[encoded data removed]",
      "text/plain": [
       "<Figure size 432x288 with 1 Axes>"
      ]
     },
     "metadata": {},
     "output_type": "display_data"
    }
   ],
   "source": [
    "plt.plot(history2.history['loss'], label=\"Loss\")\n",
    "plt.plot(history2.history['val_loss'], label=\"Validation Loss\")\n",
    "plt.legend()\n",
    "plt.show()"
   ]
  },
  {
   "cell_type": "code",
   "execution_count": 144,
   "metadata": {},
   "outputs": [
    {
     "name": "stdout",
     "output_type": "stream",
     "text": [
      "Validation Precision: [0.8276627218934911, 0.43478260869565216, 0.82515723270440255, 0.0, 0.74198047419804747, 0.55555555555555558],\n",
      "\n",
      "Validation Recall: [0.77066115702479343, 0.26666666666666666, 0.80788177339901479, 0.0, 0.71409395973154366, 0.42735042735042733],\n",
      "\n",
      "Validation F1: [0.79814550641940085, 0.33057851239669422, 0.81642812694461731, 0.0, 0.72777017783857734, 0.48309178743961351]\n"
     ]
    },
    {
     "name": "stderr",
     "output_type": "stream",
     "text": [
      "C:\\Users\\insuf\\AppData\\Local\\conda\\conda\\envs\\python352\\lib\\site-packages\\sklearn\\metrics\\classification.py:1135: UndefinedMetricWarning: Precision is ill-defined and being set to 0.0 due to no predicted samples.\n",
      "  'precision', 'predicted', average, warn_for)\n",
      "C:\\Users\\insuf\\AppData\\Local\\conda\\conda\\envs\\python352\\lib\\site-packages\\sklearn\\metrics\\classification.py:1135: UndefinedMetricWarning: F-score is ill-defined and being set to 0.0 due to no predicted samples.\n",
      "  'precision', 'predicted', average, warn_for)\n"
     ]
    }
   ],
   "source": [
    "val_predict2 = (np.asarray(model2.predict([X_val], batch_size=512))).round()\n",
    "\n",
    "val_precision2 = []\n",
    "val_recall2 = []\n",
    "val_f12 = []\n",
    "for i in range(6):\n",
    "    val_precision2.append(metrics.precision_score(val_target[:,i], val_predict2[:,i]))\n",
    "    val_recall2.append(metrics.recall_score(val_target[:,i], val_predict2[:,i]))\n",
    "    val_f12.append(metrics.f1_score(val_target[:,i], val_predict2[:,i]))\n",
    "\n",
    "print(\"Validation Precision: {},\\n\\nValidation Recall: {},\\n\\nValidation F1: {}\".format(val_precision2, val_recall2, val_f12))"
   ]
  },
  {
   "cell_type": "code",
   "execution_count": 213,
   "metadata": {},
   "outputs": [
    {
     "data": {
      "image/png": "[encoded data removed]",
      "text/plain": [
       "<Figure size 432x288 with 1 Axes>"
      ]
     },
     "metadata": {},
     "output_type": "display_data"
    }
   ],
   "source": [
    "plt.bar(np.arange(6) - 0.3/2,val_precision1,0.3,label=\"Baseline Validation Precision\", tick_label=names)\n",
    "plt.bar(np.arange(6) + 0.3/2,val_precision2,0.3,label=\"GRU Validation Precision\", tick_label=names)\n",
    "plt.legend(loc='right', bbox_to_anchor=(1.6,0.5))\n",
    "plt.show()"
   ]
  },
  {
   "cell_type": "code",
   "execution_count": 220,
   "metadata": {},
   "outputs": [
    {
     "data": {
      "image/png": "[encoded data removed]",
      "text/plain": [
       "<Figure size 432x288 with 1 Axes>"
      ]
     },
     "metadata": {},
     "output_type": "display_data"
    }
   ],
   "source": [
    "plt.bar(np.arange(6) - 0.3/2,val_recall1,0.3,label=\"Baseline Validation Recall\", tick_label=names)\n",
    "plt.bar(np.arange(6) + 0.3/2,val_recall2,0.3,label=\"GRU Validation Recall\", tick_label=names)\n",
    "plt.legend(loc='right', bbox_to_anchor=(1.55,0.5))\n",
    "plt.show()"
   ]
  },
  {
   "cell_type": "code",
   "execution_count": 218,
   "metadata": {},
   "outputs": [
    {
     "data": {
      "image/png": "[encoded data removed]",
      "text/plain": [
       "<Figure size 432x288 with 1 Axes>"
      ]
     },
     "metadata": {},
     "output_type": "display_data"
    }
   ],
   "source": [
    "plt.bar(np.arange(6) - 0.3/2,val_f11,0.3,label=\"Baseline Validation F1\", tick_label=names)\n",
    "plt.bar(np.arange(6) + 0.3/2,val_f12,0.3,label=\"GRU Validation F1\", tick_label=names)\n",
    "plt.legend(loc='right', bbox_to_anchor=(1.5,0.5))\n",
    "plt.show()"
   ]
  },
  {
   "cell_type": "markdown",
   "metadata": {},
   "source": [
    "# Use Pre-trained Embedding - GoogleNews Negative 3mil"
   ]
  },
  {
   "cell_type": "code",
   "execution_count": 221,
   "metadata": {},
   "outputs": [
    {
     "name": "stderr",
     "output_type": "stream",
     "text": [
      "C:\\Users\\insuf\\AppData\\Local\\conda\\conda\\envs\\python352\\lib\\site-packages\\ipykernel_launcher.py:6: DeprecationWarning: Call to deprecated `wv` (Attribute will be removed in 4.0.0, use self instead).\n",
      "  \n",
      "C:\\Users\\insuf\\AppData\\Local\\conda\\conda\\envs\\python352\\lib\\site-packages\\ipykernel_launcher.py:7: DeprecationWarning: Call to deprecated `wv` (Attribute will be removed in 4.0.0, use self instead).\n",
      "  import sys\n"
     ]
    },
    {
     "name": "stdout",
     "output_type": "stream",
     "text": [
      "Loaded 3000000 word vectors.\n",
      "total embedded: 17855 common words\n"
     ]
    }
   ],
   "source": [
    "word2vecDict = gensim.models.keyedvectors.KeyedVectors.load_word2vec_format(\n",
    "    r\"C:\\Users\\insuf\\Desktop\\GoogleNews-vectors-negative300.bin\", binary=True)\n",
    "\n",
    "embed_size = 300\n",
    "embeddings_index = dict()\n",
    "for word in word2vecDict.wv.vocab:\n",
    "    embeddings_index[word] = word2vecDict.wv[word]\n",
    "print('Loaded %s word vectors.' % len(embeddings_index))\n",
    "\n",
    "nb_words = min(max_features, len(tokenizer.word_index))\n",
    "embedding_matrix = np.zeros((nb_words, embed_size))\n",
    "\n",
    "embeddedCount = 0\n",
    "for word, i in tokenizer.word_index.items():\n",
    "    if i >= max_features: continue\n",
    "    embedding_vector = embeddings_index.get(word)\n",
    "    if embedding_vector is not None:\n",
    "        # words not found in embedding index will be all-zeros.\n",
    "        embedding_matrix[i] = embedding_vector\n",
    "        embeddedCount += 1\n",
    "print('total embedded:',embeddedCount,'common words')"
   ]
  },
  {
   "cell_type": "code",
   "execution_count": 222,
   "metadata": {},
   "outputs": [
    {
     "name": "stdout",
     "output_type": "stream",
     "text": [
      "_________________________________________________________________\n",
      "Layer (type)                 Output Shape              Param #   \n",
      "=================================================================\n",
      "embedding_11 (Embedding)     (None, 100, 300)          6000000   \n",
      "_________________________________________________________________\n",
      "bidirectional_11 (Bidirectio (None, 200)               320800    \n",
      "_________________________________________________________________\n",
      "dense_21 (Dense)             (None, 50)                10050     \n",
      "_________________________________________________________________\n",
      "dropout_11 (Dropout)         (None, 50)                0         \n",
      "_________________________________________________________________\n",
      "dense_22 (Dense)             (None, 6)                 306       \n",
      "=================================================================\n",
      "Total params: 6,331,156\n",
      "Trainable params: 6,331,156\n",
      "Non-trainable params: 0\n",
      "_________________________________________________________________\n"
     ]
    }
   ],
   "source": [
    "model3 = Sequential()\n",
    "model3.add(Embedding(max_features,embed_size,weights=[embedding_matrix],input_length=maxlen))\n",
    "model3.add(Bidirectional(LSTM(100,dropout=0.1,recurrent_dropout=0.1)))\n",
    "model3.add(Dense(50, activation=\"relu\"))\n",
    "model3.add(Dropout(0.1))\n",
    "model3.add(Dense(6, activation=\"sigmoid\"))\n",
    "model3.compile(loss='binary_crossentropy',optimizer='adam',metrics=[auc])\n",
    "model3.summary()"
   ]
  },
  {
   "cell_type": "code",
   "execution_count": 223,
   "metadata": {},
   "outputs": [
    {
     "name": "stdout",
     "output_type": "stream",
     "text": [
      "Train on 143613 samples, validate on 15958 samples\n",
      "Epoch 1/10\n",
      "143613/143613 [==============================] - 206s 1ms/step - loss: 0.0864 - auc: 0.8289 - val_loss: 0.0457 - val_auc: 0.9404\n",
      "Epoch 2/10\n",
      "143613/143613 [==============================] - 215s 1ms/step - loss: 0.0485 - auc: 0.9562 - val_loss: 0.0446 - val_auc: 0.9646\n",
      "Epoch 3/10\n",
      "143613/143613 [==============================] - 214s 1ms/step - loss: 0.0424 - auc: 0.9696 - val_loss: 0.0444 - val_auc: 0.9730\n",
      "Epoch 4/10\n",
      "143613/143613 [==============================] - 216s 2ms/step - loss: 0.0375 - auc: 0.9757 - val_loss: 0.0447 - val_auc: 0.9778\n"
     ]
    }
   ],
   "source": [
    "with tf.device('/gpu:0'):\n",
    "    history3 = model3.fit(X_train,y_train,batch_size=256,epochs=10,validation_data=(X_val, y_val), callbacks=[early])"
   ]
  },
  {
   "cell_type": "code",
   "execution_count": 224,
   "metadata": {},
   "outputs": [
    {
     "data": {
      "image/png": "[encoded data removed]",
      "text/plain": [
       "<Figure size 432x288 with 1 Axes>"
      ]
     },
     "metadata": {},
     "output_type": "display_data"
    }
   ],
   "source": [
    "plt.plot(history3.history['auc'], label=\"AUC\")\n",
    "plt.plot(history3.history['val_auc'], label=\"Validation AUC\")\n",
    "plt.legend()\n",
    "plt.show()"
   ]
  },
  {
   "cell_type": "code",
   "execution_count": 225,
   "metadata": {},
   "outputs": [
    {
     "data": {
      "image/png": "[encoded data removed]",
      "text/plain": [
       "<Figure size 432x288 with 1 Axes>"
      ]
     },
     "metadata": {},
     "output_type": "display_data"
    }
   ],
   "source": [
    "plt.plot(history3.history['loss'], label=\"Loss\")\n",
    "plt.plot(history3.history['val_loss'], label=\"Validation Loss\")\n",
    "plt.legend()\n",
    "plt.show()"
   ]
  },
  {
   "cell_type": "code",
   "execution_count": 226,
   "metadata": {},
   "outputs": [
    {
     "name": "stdout",
     "output_type": "stream",
     "text": [
      "Validation Precision: [0.80522230063514466, 0.44, 0.82694848084544259, 0.0, 0.71941489361702127, 0.68181818181818177],\n",
      "\n",
      "Validation Recall: [0.78581267217630857, 0.22, 0.77093596059113301, 0.0, 0.72617449664429534, 0.25641025641025639],\n",
      "\n",
      "Validation F1: [0.79539909376089235, 0.29333333333333333, 0.79796048438495859, 0.0, 0.72277889111556448, 0.37267080745341608]\n"
     ]
    },
    {
     "name": "stderr",
     "output_type": "stream",
     "text": [
      "C:\\Users\\insuf\\AppData\\Local\\conda\\conda\\envs\\python352\\lib\\site-packages\\sklearn\\metrics\\classification.py:1135: UndefinedMetricWarning: Precision is ill-defined and being set to 0.0 due to no predicted samples.\n",
      "  'precision', 'predicted', average, warn_for)\n",
      "C:\\Users\\insuf\\AppData\\Local\\conda\\conda\\envs\\python352\\lib\\site-packages\\sklearn\\metrics\\classification.py:1135: UndefinedMetricWarning: F-score is ill-defined and being set to 0.0 due to no predicted samples.\n",
      "  'precision', 'predicted', average, warn_for)\n"
     ]
    }
   ],
   "source": [
    "val_predict3 = (np.asarray(model3.predict([X_val], batch_size=512))).round()\n",
    "\n",
    "val_precision3 = []\n",
    "val_recall3 = []\n",
    "val_f13 = []\n",
    "for i in range(6):\n",
    "    val_precision3.append(metrics.precision_score(val_target[:,i], val_predict3[:,i]))\n",
    "    val_recall3.append(metrics.recall_score(val_target[:,i], val_predict3[:,i]))\n",
    "    val_f13.append(metrics.f1_score(val_target[:,i], val_predict3[:,i]))\n",
    "\n",
    "print(\"Validation Precision: {},\\n\\nValidation Recall: {},\\n\\nValidation F1: {}\".format(val_precision3, val_recall3, val_f13))"
   ]
  },
  {
   "cell_type": "markdown",
   "metadata": {},
   "source": [
    "# Glove Twitter 27B"
   ]
  },
  {
   "cell_type": "code",
   "execution_count": 227,
   "metadata": {},
   "outputs": [],
   "source": [
    "# from gensim.scripts.glove2word2vec import glove2word2vec\n",
    "# glove2word2vec(r\"C:\\Users\\insuf\\Desktop\\glove.twitter.27B.25d.txt\", r\"C:\\Users\\insuf\\Desktop\\glove.twitter.27B.25d.w2v.txt\")"
   ]
  },
  {
   "cell_type": "code",
   "execution_count": 228,
   "metadata": {},
   "outputs": [
    {
     "name": "stderr",
     "output_type": "stream",
     "text": [
      "C:\\Users\\insuf\\AppData\\Local\\conda\\conda\\envs\\python352\\lib\\site-packages\\ipykernel_launcher.py:5: DeprecationWarning: Call to deprecated `wv` (Attribute will be removed in 4.0.0, use self instead).\n",
      "  \"\"\"\n",
      "C:\\Users\\insuf\\AppData\\Local\\conda\\conda\\envs\\python352\\lib\\site-packages\\ipykernel_launcher.py:6: DeprecationWarning: Call to deprecated `wv` (Attribute will be removed in 4.0.0, use self instead).\n",
      "  \n"
     ]
    },
    {
     "name": "stdout",
     "output_type": "stream",
     "text": [
      "Loaded 1193515 word vectors.\n",
      "total embedded: 18569 common words\n"
     ]
    }
   ],
   "source": [
    "glove = gensim.models.keyedvectors.KeyedVectors.load_word2vec_format(r\"C:\\Users\\insuf\\Desktop\\glove.twitter.27B.25d.w2v.txt\")\n",
    "\n",
    "embed_size = 25\n",
    "embeddings_index = dict()\n",
    "for word in glove.wv.vocab:\n",
    "    embeddings_index[word] = glove.wv[word]\n",
    "print('Loaded %s word vectors.' % len(embeddings_index))\n",
    "\n",
    "nb_words = min(max_features, len(tokenizer.word_index))\n",
    "embedding_matrix = np.zeros((nb_words, embed_size))\n",
    "\n",
    "embeddedCount = 0\n",
    "for word, i in tokenizer.word_index.items():\n",
    "    if i >= max_features: continue\n",
    "    embedding_vector = embeddings_index.get(word)\n",
    "    if embedding_vector is not None:\n",
    "        # words not found in embedding index will be all-zeros.\n",
    "        embedding_matrix[i] = embedding_vector\n",
    "        embeddedCount += 1\n",
    "print('total embedded:',embeddedCount,'common words')"
   ]
  },
  {
   "cell_type": "code",
   "execution_count": 229,
   "metadata": {},
   "outputs": [
    {
     "name": "stdout",
     "output_type": "stream",
     "text": [
      "_________________________________________________________________\n",
      "Layer (type)                 Output Shape              Param #   \n",
      "=================================================================\n",
      "embedding_12 (Embedding)     (None, 100, 25)           500000    \n",
      "_________________________________________________________________\n",
      "bidirectional_12 (Bidirectio (None, 200)               100800    \n",
      "_________________________________________________________________\n",
      "dense_23 (Dense)             (None, 50)                10050     \n",
      "_________________________________________________________________\n",
      "dropout_12 (Dropout)         (None, 50)                0         \n",
      "_________________________________________________________________\n",
      "dense_24 (Dense)             (None, 6)                 306       \n",
      "=================================================================\n",
      "Total params: 611,156\n",
      "Trainable params: 611,156\n",
      "Non-trainable params: 0\n",
      "_________________________________________________________________\n"
     ]
    }
   ],
   "source": [
    "model4 = Sequential()\n",
    "model4.add(Embedding(max_features,embed_size,weights=[embedding_matrix],input_length=maxlen))\n",
    "model4.add(Bidirectional(LSTM(100,dropout=0.1,recurrent_dropout=0.1)))\n",
    "model4.add(Dense(50, activation=\"relu\"))\n",
    "model4.add(Dropout(0.1))\n",
    "model4.add(Dense(6, activation=\"sigmoid\"))\n",
    "model4.compile(loss='binary_crossentropy',optimizer='adam',metrics=[auc])\n",
    "model4.summary()"
   ]
  },
  {
   "cell_type": "code",
   "execution_count": 230,
   "metadata": {},
   "outputs": [
    {
     "name": "stdout",
     "output_type": "stream",
     "text": [
      "Train on 143613 samples, validate on 15958 samples\n",
      "Epoch 1/10\n",
      "143613/143613 [==============================] - 197s 1ms/step - loss: 0.0996 - auc: 0.8017 - val_loss: 0.0509 - val_auc: 0.9215\n",
      "Epoch 2/10\n",
      "143613/143613 [==============================] - 195s 1ms/step - loss: 0.0552 - auc: 0.9419 - val_loss: 0.0470 - val_auc: 0.9531\n",
      "Epoch 3/10\n",
      "143613/143613 [==============================] - 195s 1ms/step - loss: 0.0513 - auc: 0.9590 - val_loss: 0.0464 - val_auc: 0.9631\n",
      "Epoch 4/10\n",
      "143613/143613 [==============================] - 196s 1ms/step - loss: 0.0491 - auc: 0.9659 - val_loss: 0.0444 - val_auc: 0.9682\n",
      "Epoch 5/10\n",
      "143613/143613 [==============================] - 195s 1ms/step - loss: 0.0468 - auc: 0.9701 - val_loss: 0.0443 - val_auc: 0.9717\n",
      "Epoch 6/10\n",
      "143613/143613 [==============================] - 195s 1ms/step - loss: 0.0450 - auc: 0.9730 - val_loss: 0.0437 - val_auc: 0.9741\n",
      "Epoch 7/10\n",
      "143613/143613 [==============================] - 195s 1ms/step - loss: 0.0433 - auc: 0.9751 - val_loss: 0.0427 - val_auc: 0.9760\n",
      "Epoch 8/10\n",
      "143613/143613 [==============================] - 196s 1ms/step - loss: 0.0419 - auc: 0.9768 - val_loss: 0.0430 - val_auc: 0.9775\n"
     ]
    }
   ],
   "source": [
    "with tf.device('/gpu:0'):\n",
    "    history4 = model4.fit(X_train,y_train,batch_size=256,epochs=10,validation_data=(X_val, y_val), callbacks=[early])"
   ]
  },
  {
   "cell_type": "code",
   "execution_count": 231,
   "metadata": {},
   "outputs": [
    {
     "data": {
      "image/png": "[encoded data removed]",
      "text/plain": [
       "<Figure size 432x288 with 1 Axes>"
      ]
     },
     "metadata": {},
     "output_type": "display_data"
    }
   ],
   "source": [
    "plt.plot(history4.history['auc'], label=\"AUC\")\n",
    "plt.plot(history4.history['val_auc'], label=\"Validation AUC\")\n",
    "plt.legend()\n",
    "plt.show()"
   ]
  },
  {
   "cell_type": "code",
   "execution_count": 232,
   "metadata": {},
   "outputs": [
    {
     "data": {
      "image/png": "[encoded data removed]",
      "text/plain": [
       "<Figure size 432x288 with 1 Axes>"
      ]
     },
     "metadata": {},
     "output_type": "display_data"
    }
   ],
   "source": [
    "plt.plot(history4.history['loss'], label=\"Loss\")\n",
    "plt.plot(history4.history['val_loss'], label=\"Validation Loss\")\n",
    "plt.legend()\n",
    "plt.show()"
   ]
  },
  {
   "cell_type": "code",
   "execution_count": 233,
   "metadata": {},
   "outputs": [
    {
     "name": "stdout",
     "output_type": "stream",
     "text": [
      "Validation Precision: [0.84167289021657954, 0.52307692307692311, 0.84069611780455156, 0.0, 0.74340175953079179, 0.66666666666666663],\n",
      "\n",
      "Validation Recall: [0.77617079889807161, 0.22666666666666666, 0.77339901477832518, 0.0, 0.68053691275167782, 0.22222222222222221],\n",
      "\n",
      "Validation F1: [0.80759584378359006, 0.31627906976744186, 0.80564464400256586, 0.0, 0.71058163980378408, 0.33333333333333331]\n"
     ]
    },
    {
     "name": "stderr",
     "output_type": "stream",
     "text": [
      "C:\\Users\\insuf\\AppData\\Local\\conda\\conda\\envs\\python352\\lib\\site-packages\\sklearn\\metrics\\classification.py:1135: UndefinedMetricWarning: Precision is ill-defined and being set to 0.0 due to no predicted samples.\n",
      "  'precision', 'predicted', average, warn_for)\n",
      "C:\\Users\\insuf\\AppData\\Local\\conda\\conda\\envs\\python352\\lib\\site-packages\\sklearn\\metrics\\classification.py:1135: UndefinedMetricWarning: F-score is ill-defined and being set to 0.0 due to no predicted samples.\n",
      "  'precision', 'predicted', average, warn_for)\n"
     ]
    }
   ],
   "source": [
    "val_predict4 = (np.asarray(model4.predict([X_val], batch_size=512))).round()\n",
    "\n",
    "val_precision4 = []\n",
    "val_recall4 = []\n",
    "val_f14 = []\n",
    "for i in range(6):\n",
    "    val_precision4.append(metrics.precision_score(val_target[:,i], val_predict4[:,i]))\n",
    "    val_recall4.append(metrics.recall_score(val_target[:,i], val_predict4[:,i]))\n",
    "    val_f14.append(metrics.f1_score(val_target[:,i], val_predict4[:,i]))\n",
    "\n",
    "print(\"Validation Precision: {},\\n\\nValidation Recall: {},\\n\\nValidation F1: {}\".format(val_precision4, val_recall4, val_f14))"
   ]
  },
  {
   "cell_type": "markdown",
   "metadata": {},
   "source": [
    "# Overall Comparison"
   ]
  },
  {
   "cell_type": "code",
   "execution_count": 3,
   "metadata": {},
   "outputs": [
    {
     "ename": "NameError",
     "evalue": "name 'history1' is not defined",
     "output_type": "error",
     "traceback": [
      "\u001b[1;31m---------------------------------------------------------------------------\u001b[0m",
      "\u001b[1;31mNameError\u001b[0m                                 Traceback (most recent call last)",
      "\u001b[1;32m<ipython-input-3-447f9c432bbc>\u001b[0m in \u001b[0;36m<module>\u001b[1;34m()\u001b[0m\n\u001b[0;32m      1\u001b[0m \u001b[1;32mfrom\u001b[0m \u001b[0mmatplotlib\u001b[0m \u001b[1;32mimport\u001b[0m \u001b[0mpyplot\u001b[0m \u001b[1;32mas\u001b[0m \u001b[0mplt\u001b[0m\u001b[1;33m\u001b[0m\u001b[0m\n\u001b[1;32m----> 2\u001b[1;33m \u001b[0mplt\u001b[0m\u001b[1;33m.\u001b[0m\u001b[0mplot\u001b[0m\u001b[1;33m(\u001b[0m\u001b[0mhistory1\u001b[0m\u001b[1;33m.\u001b[0m\u001b[0mhistory\u001b[0m\u001b[1;33m[\u001b[0m\u001b[1;34m'auc'\u001b[0m\u001b[1;33m]\u001b[0m\u001b[1;33m,\u001b[0m \u001b[0mlabel\u001b[0m\u001b[1;33m=\u001b[0m\u001b[1;34m\"Baseline Training AUC\"\u001b[0m\u001b[1;33m)\u001b[0m\u001b[1;33m\u001b[0m\u001b[0m\n\u001b[0m\u001b[0;32m      3\u001b[0m \u001b[0mplt\u001b[0m\u001b[1;33m.\u001b[0m\u001b[0mplot\u001b[0m\u001b[1;33m(\u001b[0m\u001b[0mhistory3\u001b[0m\u001b[1;33m.\u001b[0m\u001b[0mhistory\u001b[0m\u001b[1;33m[\u001b[0m\u001b[1;34m'auc'\u001b[0m\u001b[1;33m]\u001b[0m\u001b[1;33m,\u001b[0m \u001b[0mlabel\u001b[0m\u001b[1;33m=\u001b[0m\u001b[1;34m\"Pretrained w2v Training AUC\"\u001b[0m\u001b[1;33m)\u001b[0m\u001b[1;33m\u001b[0m\u001b[0m\n\u001b[0;32m      4\u001b[0m \u001b[0mplt\u001b[0m\u001b[1;33m.\u001b[0m\u001b[0mplot\u001b[0m\u001b[1;33m(\u001b[0m\u001b[0mhistory4\u001b[0m\u001b[1;33m.\u001b[0m\u001b[0mhistory\u001b[0m\u001b[1;33m[\u001b[0m\u001b[1;34m'auc'\u001b[0m\u001b[1;33m]\u001b[0m\u001b[1;33m,\u001b[0m \u001b[0mlabel\u001b[0m\u001b[1;33m=\u001b[0m\u001b[1;34m\"Pretrained glove Training AUC\"\u001b[0m\u001b[1;33m)\u001b[0m\u001b[1;33m\u001b[0m\u001b[0m\n\u001b[0;32m      5\u001b[0m \u001b[0mplt\u001b[0m\u001b[1;33m.\u001b[0m\u001b[0mlegend\u001b[0m\u001b[1;33m(\u001b[0m\u001b[1;33m)\u001b[0m\u001b[1;33m\u001b[0m\u001b[0m\n",
      "\u001b[1;31mNameError\u001b[0m: name 'history1' is not defined"
     ]
    }
   ],
   "source": [
    "from matplotlib import pyplot as plt\n",
    "plt.plot(history1.history['auc'], label=\"Baseline Training AUC\")\n",
    "plt.plot(history3.history['auc'], label=\"Pretrained w2v Training AUC\")\n",
    "plt.plot(history4.history['auc'], label=\"Pretrained glove Training AUC\")\n",
    "plt.legend()\n",
    "plt.show()"
   ]
  },
  {
   "cell_type": "code",
   "execution_count": 96,
   "metadata": {},
   "outputs": [
    {
     "data": {
      "image/png": "[encoded data removed]",
      "text/plain": [
       "<Figure size 432x288 with 1 Axes>"
      ]
     },
     "metadata": {},
     "output_type": "display_data"
    }
   ],
   "source": [
    "plt.plot(history.history['val_auc'], label=\"Baseline Validation AUC\")\n",
    "plt.plot(history2.history['val_auc'], label=\"GRU Validation AUC\")\n",
    "plt.legend()\n",
    "plt.show()"
   ]
  },
  {
   "cell_type": "code",
   "execution_count": 95,
   "metadata": {},
   "outputs": [
    {
     "data": {
      "image/png": "[encoded data removed]",
      "text/plain": [
       "<Figure size 432x288 with 1 Axes>"
      ]
     },
     "metadata": {},
     "output_type": "display_data"
    }
   ],
   "source": [
    "plt.plot(history.history['loss'], label=\"Baseline Training Loss\")\n",
    "plt.plot(history3.history['loss'], label=\"Pretrained w2v Training Loss\")\n",
    "plt.plot(history4.history['loss'], label=\"Pretrained glove Training Loss\")\n",
    "plt.legend()\n",
    "plt.show()"
   ]
  },
  {
   "cell_type": "code",
   "execution_count": 97,
   "metadata": {},
   "outputs": [
    {
     "data": {
      "image/png": "[encoded data removed]",
      "text/plain": [
       "<Figure size 432x288 with 1 Axes>"
      ]
     },
     "metadata": {},
     "output_type": "display_data"
    }
   ],
   "source": [
    "plt.plot(history.history['val_loss'], label=\"Baseline Validation Loss\")\n",
    "plt.plot(history2.history['val_loss'], label=\"GRU Validation Loss\")\n",
    "plt.legend()\n",
    "plt.show()"
   ]
  },
  {
   "cell_type": "code",
   "execution_count": 89,
   "metadata": {},
   "outputs": [
    {
     "name": "stdout",
     "output_type": "stream",
     "text": [
      "Loaded 25653 word vectors.\n",
      "total embedded: 19861 common words\n"
     ]
    }
   ],
   "source": [
    "model_sg = gensim.models.Word2Vec.load('model_sg')\n",
    "\n",
    "embed_size = 300\n",
    "embeddings_index = dict()\n",
    "for word in model_sg.wv.vocab:\n",
    "    embeddings_index[word] = model_sg.wv[word]\n",
    "print('Loaded %s word vectors.' % len(embeddings_index))\n",
    "\n",
    "nb_words = min(max_features, len(tokenizer.word_index))\n",
    "embedding_matrix = np.zeros((nb_words, embed_size))\n",
    "\n",
    "embeddedCount = 0\n",
    "for word, i in tokenizer.word_index.items():\n",
    "    if i >= max_features: continue\n",
    "    embedding_vector = embeddings_index.get(word)\n",
    "    if embedding_vector is not None:\n",
    "        # words not found in embedding index will be all-zeros.\n",
    "        embedding_matrix[i] = embedding_vector\n",
    "        embeddedCount += 1\n",
    "print('total embedded:',embeddedCount,'common words')"
   ]
  },
  {
   "cell_type": "code",
   "execution_count": 90,
   "metadata": {},
   "outputs": [
    {
     "name": "stdout",
     "output_type": "stream",
     "text": [
      "Train on 143613 samples, validate on 15958 samples\n",
      "Epoch 1/10\n",
      "143613/143613 [==============================] - 189s 1ms/step - loss: 0.0771 - auc: 0.8753 - val_loss: 0.0488 - val_auc: 0.9532\n",
      "Epoch 2/10\n",
      "143613/143613 [==============================] - 186s 1ms/step - loss: 0.0534 - auc: 0.9618 - val_loss: 0.0466 - val_auc: 0.9669\n",
      "Epoch 3/10\n",
      "143613/143613 [==============================] - 185s 1ms/step - loss: 0.0502 - auc: 0.9698 - val_loss: 0.0454 - val_auc: 0.9720\n",
      "Epoch 4/10\n",
      "143613/143613 [==============================] - 185s 1ms/step - loss: 0.0478 - auc: 0.9736 - val_loss: 0.0445 - val_auc: 0.9748\n",
      "Epoch 5/10\n",
      "143613/143613 [==============================] - 185s 1ms/step - loss: 0.0460 - auc: 0.9759 - val_loss: 0.0462 - val_auc: 0.9768\n"
     ]
    }
   ],
   "source": [
    "model5 = Sequential()\n",
    "model5.add(Embedding(max_features,embed_size,weights=[embedding_matrix],input_length=maxlen,trainable=False))\n",
    "model5.add(Bidirectional(LSTM(100, return_sequences=True,dropout=0.1,recurrent_dropout=0.1)))\n",
    "model5.add(Dense(50, activation=\"relu\"))\n",
    "model5.add(Dropout(0.1))\n",
    "model5.add(Dense(6, activation=\"sigmoid\"))\n",
    "model5.compile(loss='binary_crossentropy',optimizer='adam',metrics=[auc])\n",
    "with tf.device('/gpu:0'):\n",
    "    history5 = model5.fit(X_train,y_train,batch_size=256,epochs=10,validation_data=(X_val, y_val), callbacks=[early])"
   ]
  },
  {
   "cell_type": "code",
   "execution_count": null,
   "metadata": {},
   "outputs": [],
   "source": []
  },
  {
   "cell_type": "code",
   "execution_count": null,
   "metadata": {},
   "outputs": [],
   "source": []
  },
  {
   "cell_type": "code",
   "execution_count": 235,
   "metadata": {},
   "outputs": [
    {
     "name": "stdout",
     "output_type": "stream",
     "text": [
      "_________________________________________________________________\n",
      "Layer (type)                 Output Shape              Param #   \n",
      "=================================================================\n",
      "embedding_13 (Embedding)     (None, 100, 25)           500000    \n",
      "_________________________________________________________________\n",
      "bidirectional_13 (Bidirectio (None, 400)               361600    \n",
      "_________________________________________________________________\n",
      "dense_25 (Dense)             (None, 100)               40100     \n",
      "_________________________________________________________________\n",
      "dropout_13 (Dropout)         (None, 100)               0         \n",
      "_________________________________________________________________\n",
      "dense_26 (Dense)             (None, 6)                 606       \n",
      "=================================================================\n",
      "Total params: 902,306\n",
      "Trainable params: 902,306\n",
      "Non-trainable params: 0\n",
      "_________________________________________________________________\n"
     ]
    }
   ],
   "source": [
    "model9 = Sequential()\n",
    "model9.add(Embedding(max_features,embed_size,weights=[embedding_matrix],input_length=maxlen))\n",
    "model9.add(Bidirectional(LSTM(200,dropout=0.1,recurrent_dropout=0.1)))\n",
    "model9.add(Dense(100, activation=\"relu\"))\n",
    "model9.add(Dropout(0.1))\n",
    "model9.add(Dense(6, activation=\"sigmoid\"))\n",
    "model9.compile(loss='binary_crossentropy',optimizer='adam',metrics=[auc])\n",
    "model9.summary()"
   ]
  },
  {
   "cell_type": "code",
   "execution_count": 236,
   "metadata": {},
   "outputs": [
    {
     "name": "stdout",
     "output_type": "stream",
     "text": [
      "Train on 143613 samples, validate on 15958 samples\n",
      "Epoch 1/10\n",
      "143613/143613 [==============================] - 199s 1ms/step - loss: 0.0864 - auc: 0.8487 - val_loss: 0.0503 - val_auc: 0.9378\n",
      "Epoch 2/10\n",
      "143613/143613 [==============================] - 192s 1ms/step - loss: 0.0540 - auc: 0.9521 - val_loss: 0.0461 - val_auc: 0.9601\n",
      "Epoch 3/10\n",
      "143613/143613 [==============================] - 192s 1ms/step - loss: 0.0502 - auc: 0.9643 - val_loss: 0.0459 - val_auc: 0.9675\n",
      "Epoch 4/10\n",
      "143613/143613 [==============================] - 189s 1ms/step - loss: 0.0476 - auc: 0.9698 - val_loss: 0.0433 - val_auc: 0.9716\n",
      "Epoch 5/10\n",
      "143613/143613 [==============================] - 188s 1ms/step - loss: 0.0451 - auc: 0.9732 - val_loss: 0.0430 - val_auc: 0.9745\n",
      "Epoch 6/10\n",
      "143613/143613 [==============================] - 190s 1ms/step - loss: 0.0435 - auc: 0.9756 - val_loss: 0.0419 - val_auc: 0.9765\n",
      "Epoch 7/10\n",
      "143613/143613 [==============================] - 189s 1ms/step - loss: 0.0417 - auc: 0.9774 - val_loss: 0.0429 - val_auc: 0.9782\n"
     ]
    }
   ],
   "source": [
    "with tf.device('/gpu:0'):\n",
    "    history1 = model9.fit(X_train,y_train,batch_size=256,epochs=10,validation_data=(X_val, y_val), callbacks=[early])"
   ]
  },
  {
   "cell_type": "code",
   "execution_count": 237,
   "metadata": {},
   "outputs": [
    {
     "name": "stdout",
     "output_type": "stream",
     "text": [
      "Validation Precision: [0.83580980683506689, 0.45238095238095238, 0.81762545899632799, 1.0, 0.70915841584158412, 0.55844155844155841],\n",
      "\n",
      "Validation Recall: [0.77479338842975209, 0.25333333333333335, 0.82266009852216748, 0.022222222222222223, 0.76912751677852353, 0.36752136752136755],\n",
      "\n",
      "Validation F1: [0.80414581844174404, 0.3247863247863248, 0.8201350521792512, 0.043478260869565223, 0.73792659368963298, 0.44329896907216498]\n"
     ]
    }
   ],
   "source": [
    "val_predict9 = (np.asarray(model9.predict([X_val], batch_size=512))).round()\n",
    "\n",
    "val_precision9 = []\n",
    "val_recall9 = []\n",
    "val_f19 = []\n",
    "for i in range(6):\n",
    "    val_precision9.append(metrics.precision_score(val_target[:,i], val_predict9[:,i]))\n",
    "    val_recall9.append(metrics.recall_score(val_target[:,i], val_predict9[:,i]))\n",
    "    val_f19.append(metrics.f1_score(val_target[:,i], val_predict9[:,i]))\n",
    "\n",
    "print(\"Validation Precision: {},\\n\\nValidation Recall: {},\\n\\nValidation F1: {}\".format(val_precision9, val_recall9, val_f19))"
   ]
  },
  {
   "cell_type": "code",
   "execution_count": 238,
   "metadata": {},
   "outputs": [
    {
     "data": {
      "image/png": "[encoded data removed]",
      "text/plain": [
       "<Figure size 432x288 with 1 Axes>"
      ]
     },
     "metadata": {},
     "output_type": "display_data"
    }
   ],
   "source": [
    "plt.bar(np.arange(6)-0.3/2, val_precision9, 0.3, label=\"Baseline Validation Precision\", tick_label=names)\n",
    "plt.bar(np.arange(6)+0.3/2, val_recall9, 0.3, label=\"Baseline Validation Recall\", tick_label=names)\n",
    "\n",
    "plt.legend(loc='right', bbox_to_anchor=(1.6,0.5))\n",
    "plt.show()"
   ]
  },
  {
   "cell_type": "code",
   "execution_count": 242,
   "metadata": {},
   "outputs": [
    {
     "data": {
      "image/png": "[encoded data removed]",
      "text/plain": [
       "<Figure size 432x288 with 1 Axes>"
      ]
     },
     "metadata": {},
     "output_type": "display_data"
    }
   ],
   "source": [
    "plt.bar(np.arange(6)-0.3/2, val_precision, 0.3, label=\"Baseline 100 Validation Precision\", tick_label=names)\n",
    "plt.bar(np.arange(6)+0.3/2, val_precision9, 0.3, label=\"Baseline 200 Validation Precision\", tick_label=names)\n",
    "\n",
    "plt.legend(loc='right', bbox_to_anchor=(1.65,0.5))\n",
    "plt.show()"
   ]
  },
  {
   "cell_type": "code",
   "execution_count": 240,
   "metadata": {},
   "outputs": [
    {
     "data": {
      "image/png": "[encoded data removed]",
      "text/plain": [
       "<Figure size 432x288 with 1 Axes>"
      ]
     },
     "metadata": {},
     "output_type": "display_data"
    }
   ],
   "source": [
    "plt.bar(np.arange(6)-0.3/2, val_recall, 0.3, label=\"Baseline 100 Validation Recall\", tick_label=names)\n",
    "plt.bar(np.arange(6)+0.3/2, val_recall9, 0.3, label=\"Baseline 200 Validation Recall\", tick_label=names)\n",
    "\n",
    "plt.legend(loc='right', bbox_to_anchor=(1.6,0.5))\n",
    "plt.show()"
   ]
  },
  {
   "cell_type": "code",
   "execution_count": null,
   "metadata": {},
   "outputs": [],
   "source": []
  }
 ],
 "metadata": {
  "kernelspec": {
   "display_name": "Python 3",
   "language": "python",
   "name": "python3"
  },
  "language_info": {
   "codemirror_mode": {
    "name": "ipython",
    "version": 3
   },
   "file_extension": ".py",
   "mimetype": "text/x-python",
   "name": "python",
   "nbconvert_exporter": "python",
   "pygments_lexer": "ipython3",
   "version": "3.5.2"
  }
 },
 "nbformat": 4,
 "nbformat_minor": 2
}
