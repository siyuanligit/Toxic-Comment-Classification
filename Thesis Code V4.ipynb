{
 "cells": [
  {
   "cell_type": "markdown",
   "metadata": {},
   "source": [
    "# Load Dependencies"
   ]
  },
  {
   "cell_type": "code",
   "execution_count": 1,
   "metadata": {},
   "outputs": [],
   "source": [
    "# -*- coding: unicode -*-"
   ]
  },
  {
   "cell_type": "code",
   "execution_count": 2,
   "metadata": {},
   "outputs": [
    {
     "name": "stderr",
     "output_type": "stream",
     "text": [
      "Using TensorFlow backend.\n",
      "C:\\Users\\insuf\\AppData\\Local\\conda\\conda\\envs\\python352\\lib\\site-packages\\gensim\\utils.py:1197: UserWarning: detected Windows; aliasing chunkize to chunkize_serial\n",
      "  warnings.warn(\"detected Windows; aliasing chunkize to chunkize_serial\")\n"
     ]
    }
   ],
   "source": [
    "import sys, os, re, csv, codecs, numpy as np, pandas as pd\n",
    "# os.environ[\"CUDA_DEVICE_ORDER\"] = \"PCI_BUS_ID\"   # see issue #152\n",
    "# os.environ[\"CUDA_VISIBLE_DEVICES\"] = \"\"\n",
    "import tensorflow as tf\n",
    "from keras import backend as K\n",
    "from keras.preprocessing.text import Tokenizer\n",
    "from keras.preprocessing.sequence import pad_sequences\n",
    "from matplotlib import pyplot as plt\n",
    "import gensim\n",
    "import nltk\n",
    "from sklearn import metrics\n",
    "from sklearn.model_selection import train_test_split\n",
    "from keras.layers import Dense, Input, LSTM, Embedding, Dropout, Activation, GRU\n",
    "from keras.layers import Bidirectional, BatchNormalization, GlobalMaxPooling1D\n",
    "from keras.models import Model, Sequential\n",
    "from keras.utils import plot_model\n",
    "from keras import initializers, regularizers, constraints, optimizers, layers\n",
    "from keras.callbacks import EarlyStopping, ModelCheckpoint"
   ]
  },
  {
   "cell_type": "code",
   "execution_count": 3,
   "metadata": {},
   "outputs": [],
   "source": [
    "from keras.backend.tensorflow_backend import set_session\n",
    "\n",
    "config = tf.ConfigProto()\n",
    "config.gpu_options.per_process_gpu_memory_fraction = 0.3\n",
    "set_session(tf.Session(config=config))"
   ]
  },
  {
   "cell_type": "code",
   "execution_count": 4,
   "metadata": {},
   "outputs": [],
   "source": [
    "assert gensim.models.doc2vec.FAST_VERSION > -1"
   ]
  },
  {
   "cell_type": "code",
   "execution_count": 5,
   "metadata": {},
   "outputs": [
    {
     "name": "stdout",
     "output_type": "stream",
     "text": [
      "[nltk_data] Downloading package stopwords to\n",
      "[nltk_data]     C:\\Users\\insuf\\AppData\\Roaming\\nltk_data...\n",
      "[nltk_data]   Package stopwords is already up-to-date!\n",
      "[nltk_data] Downloading package punkt to\n",
      "[nltk_data]     C:\\Users\\insuf\\AppData\\Roaming\\nltk_data...\n",
      "[nltk_data]   Package punkt is already up-to-date!\n"
     ]
    },
    {
     "data": {
      "text/plain": [
       "True"
      ]
     },
     "execution_count": 5,
     "metadata": {},
     "output_type": "execute_result"
    }
   ],
   "source": [
    "nltk.download('stopwords')\n",
    "nltk.download('punkt')"
   ]
  },
  {
   "cell_type": "code",
   "execution_count": 6,
   "metadata": {},
   "outputs": [
    {
     "name": "stdout",
     "output_type": "stream",
     "text": [
      "[name: \"/cpu:0\"\n",
      "device_type: \"CPU\"\n",
      "memory_limit: 268435456\n",
      "locality {\n",
      "}\n",
      "incarnation: 7616116616762234949\n",
      ", name: \"/gpu:0\"\n",
      "device_type: \"GPU\"\n",
      "memory_limit: 3129039257\n",
      "locality {\n",
      "  bus_id: 1\n",
      "}\n",
      "incarnation: 17930143205764048955\n",
      "physical_device_desc: \"device: 0, name: GeForce GTX 1060 6GB, pci bus id: 0000:01:00.0\"\n",
      "]\n"
     ]
    }
   ],
   "source": [
    "from tensorflow.python.client import device_lib\n",
    "print(device_lib.list_local_devices())"
   ]
  },
  {
   "cell_type": "markdown",
   "metadata": {},
   "source": [
    "# Data Preprocessing"
   ]
  },
  {
   "cell_type": "code",
   "execution_count": 7,
   "metadata": {},
   "outputs": [],
   "source": [
    "from numpy.random import seed\n",
    "seed(123)\n",
    "from tensorflow import set_random_seed\n",
    "set_random_seed(123)"
   ]
  },
  {
   "cell_type": "code",
   "execution_count": 8,
   "metadata": {},
   "outputs": [],
   "source": [
    "train = pd.read_csv('train_clean.csv')\n",
    "train.comment_text = train.comment_text.astype(str)"
   ]
  },
  {
   "cell_type": "code",
   "execution_count": 9,
   "metadata": {},
   "outputs": [],
   "source": [
    "list_classes = list_classes = [\"toxic\", \"severe_toxic\", \"obscene\", \"threat\", \"insult\", \"identity_hate\"]\n",
    "y = train[list_classes].values\n",
    "list_sentences_train = train[\"comment_text\"]"
   ]
  },
  {
   "cell_type": "code",
   "execution_count": 10,
   "metadata": {},
   "outputs": [
    {
     "data": {
      "text/plain": [
       "223043"
      ]
     },
     "execution_count": 10,
     "metadata": {},
     "output_type": "execute_result"
    }
   ],
   "source": [
    "max_features = 20000\n",
    "tokenizer = Tokenizer(num_words=max_features)\n",
    "tokenizer.fit_on_texts(list(list_sentences_train))\n",
    "list_tokenized_train = tokenizer.texts_to_sequences(list_sentences_train)\n",
    "len(tokenizer.word_index)"
   ]
  },
  {
   "cell_type": "code",
   "execution_count": 11,
   "metadata": {},
   "outputs": [],
   "source": [
    "maxlen = 100\n",
    "X_t = pad_sequences(list_tokenized_train,maxlen=maxlen,padding='post')"
   ]
  },
  {
   "cell_type": "code",
   "execution_count": 12,
   "metadata": {},
   "outputs": [],
   "source": [
    "# description = train.comment_text.values.tolist()\n",
    "# stop_words = set(nltk.corpus.stopwords.words('english'))\n",
    "\n",
    "\n",
    "# # Function to filter stop words from tokens for each sentence\n",
    "# def sentence_filter(sentence_token, stop_words):\n",
    "#     filtered = []\n",
    "#     for token in sentence_token:\n",
    "#         if not token in stop_words:\n",
    "#             filtered.append(token)\n",
    "#     return filtered\n",
    "\n",
    "\n",
    "# # Input description, tokenize each sentence and return token for each sentence without stopping words\n",
    "# def sentence_tokenizer(description, stop_words):\n",
    "#     value = []\n",
    "#     for sentence in description:\n",
    "#         sentence = sentence.lower()\n",
    "#         tokenizer_ = nltk.tokenize.RegexpTokenizer(r'[a-zA-Z]+')\n",
    "#         sentence_token = tokenizer_.tokenize(sentence)\n",
    "#         # sentence_token = nltk.word_tokenize(sentence)\n",
    "#         filtered_token = sentence_filter(sentence_token, stop_words)\n",
    "#         value.append(filtered_token)\n",
    "#     return value\n",
    "\n",
    "\n",
    "# # Tokenize the sentence\n",
    "# description_token = sentence_tokenizer(description, stop_words)"
   ]
  },
  {
   "cell_type": "code",
   "execution_count": 13,
   "metadata": {},
   "outputs": [],
   "source": [
    "# Skip gram model with minimum word count = 10 and output vector of length 300\n",
    "# model_sg = gensim.models.Word2Vec(description_token, window=2, min_count=10, size=300, workers=4, seed=123, iter=10)"
   ]
  },
  {
   "cell_type": "code",
   "execution_count": 14,
   "metadata": {},
   "outputs": [],
   "source": [
    "# model_sg.save('model_sg')"
   ]
  },
  {
   "cell_type": "code",
   "execution_count": 15,
   "metadata": {},
   "outputs": [
    {
     "name": "stdout",
     "output_type": "stream",
     "text": [
      "Loaded 25653 word vectors.\n",
      "total embedded: 19861 common words\n"
     ]
    }
   ],
   "source": [
    "model_sg = gensim.models.Word2Vec.load('model_sg')\n",
    "\n",
    "embed_size = 300\n",
    "embeddings_index = dict()\n",
    "for word in model_sg.wv.vocab:\n",
    "    embeddings_index[word] = model_sg.wv[word]\n",
    "print('Loaded %s word vectors.' % len(embeddings_index))\n",
    "\n",
    "nb_words = min(max_features, len(tokenizer.word_index))\n",
    "embedding_matrix = np.zeros((nb_words, embed_size))\n",
    "\n",
    "embeddedCount = 0\n",
    "for word, i in tokenizer.word_index.items():\n",
    "    if i >= max_features: continue\n",
    "    embedding_vector = embeddings_index.get(word)\n",
    "    if embedding_vector is not None:\n",
    "        # words not found in embedding index will be all-zeros.\n",
    "        embedding_matrix[i] = embedding_vector\n",
    "        embeddedCount += 1\n",
    "print('total embedded:',embeddedCount,'common words')"
   ]
  },
  {
   "cell_type": "code",
   "execution_count": 16,
   "metadata": {},
   "outputs": [
    {
     "data": {
      "text/plain": [
       "(20000, 300)"
      ]
     },
     "execution_count": 16,
     "metadata": {},
     "output_type": "execute_result"
    }
   ],
   "source": [
    "embedding_matrix.shape"
   ]
  },
  {
   "cell_type": "code",
   "execution_count": 17,
   "metadata": {},
   "outputs": [],
   "source": [
    "def auc(y_true, y_pred):\n",
    "     auc = tf.metrics.auc(y_true, y_pred)[1]\n",
    "     K.get_session().run(tf.local_variables_initializer())\n",
    "     return auc"
   ]
  },
  {
   "cell_type": "code",
   "execution_count": 18,
   "metadata": {},
   "outputs": [
    {
     "name": "stderr",
     "output_type": "stream",
     "text": [
      "C:\\Users\\insuf\\AppData\\Local\\conda\\conda\\envs\\python352\\lib\\site-packages\\sklearn\\model_selection\\_split.py:2026: FutureWarning: From version 0.21, test_size will always complement train_size unless both are specified.\n",
      "  FutureWarning)\n"
     ]
    }
   ],
   "source": [
    "X_train, X_val, y_train, y_val = train_test_split(X_t, y, train_size=0.9, random_state=123)"
   ]
  },
  {
   "cell_type": "code",
   "execution_count": 99,
   "metadata": {},
   "outputs": [
    {
     "name": "stdout",
     "output_type": "stream",
     "text": [
      "_________________________________________________________________\n",
      "Layer (type)                 Output Shape              Param #   \n",
      "=================================================================\n",
      "embedding_9 (Embedding)      (None, 100, 300)          6000000   \n",
      "_________________________________________________________________\n",
      "bidirectional_9 (Bidirection (None, 200)               320800    \n",
      "_________________________________________________________________\n",
      "dense_17 (Dense)             (None, 50)                10050     \n",
      "_________________________________________________________________\n",
      "dropout_9 (Dropout)          (None, 50)                0         \n",
      "_________________________________________________________________\n",
      "dense_18 (Dense)             (None, 6)                 306       \n",
      "=================================================================\n",
      "Total params: 6,331,156\n",
      "Trainable params: 6,331,156\n",
      "Non-trainable params: 0\n",
      "_________________________________________________________________\n"
     ]
    }
   ],
   "source": [
    "model = Sequential()\n",
    "model.add(Embedding(max_features,embed_size,weights=[embedding_matrix],input_length=maxlen))\n",
    "model.add(Bidirectional(LSTM(100,dropout=0.1,recurrent_dropout=0.1)))\n",
    "model.add(Dense(50, activation=\"relu\"))\n",
    "model.add(Dropout(0.1))\n",
    "model.add(Dense(6, activation=\"sigmoid\"))\n",
    "model.compile(loss='binary_crossentropy',optimizer='adam',metrics=[auc])\n",
    "model.summary()"
   ]
  },
  {
   "cell_type": "code",
   "execution_count": 20,
   "metadata": {},
   "outputs": [],
   "source": [
    "# plot_model(model, to_file='model.png')"
   ]
  },
  {
   "cell_type": "code",
   "execution_count": 100,
   "metadata": {},
   "outputs": [],
   "source": [
    "early = EarlyStopping(monitor=\"val_loss\", mode=\"min\", patience=3)\n",
    "# checkpoint = ModelCheckpoint(filepath='best.hdf5',monitor='val_loss',verbose=1, save_best_only=True)"
   ]
  },
  {
   "cell_type": "code",
   "execution_count": 101,
   "metadata": {},
   "outputs": [],
   "source": [
    "cw = {0:1, 1:10, 2:90, 3:17, 4:300, 5:18, 6:102}"
   ]
  },
  {
   "cell_type": "code",
   "execution_count": 102,
   "metadata": {},
   "outputs": [
    {
     "name": "stdout",
     "output_type": "stream",
     "text": [
      "Train on 143613 samples, validate on 15958 samples\n",
      "Epoch 1/20\n",
      "143613/143613 [==============================] - 212s 1ms/step - loss: 0.4698 - auc: 0.7571 - val_loss: 0.1007 - val_auc: 0.8316\n",
      "Epoch 2/20\n",
      "143613/143613 [==============================] - 215s 1ms/step - loss: 0.3293 - auc: 0.8617 - val_loss: 0.0870 - val_auc: 0.8807\n",
      "Epoch 3/20\n",
      "143613/143613 [==============================] - 223s 2ms/step - loss: 0.2363 - auc: 0.8943 - val_loss: 0.0881 - val_auc: 0.9036\n",
      "Epoch 4/20\n",
      "143613/143613 [==============================] - 217s 2ms/step - loss: 0.1645 - auc: 0.9123 - val_loss: 0.0857 - val_auc: 0.9193\n",
      "Epoch 5/20\n",
      "143613/143613 [==============================] - 210s 1ms/step - loss: 0.1190 - auc: 0.9253 - val_loss: 0.0824 - val_auc: 0.9308\n",
      "Epoch 6/20\n",
      "143613/143613 [==============================] - 209s 1ms/step - loss: 0.0989 - auc: 0.9353 - val_loss: 0.0739 - val_auc: 0.9392\n",
      "Epoch 7/20\n",
      "143613/143613 [==============================] - 215s 1ms/step - loss: 0.0778 - auc: 0.9426 - val_loss: 0.0789 - val_auc: 0.9456\n",
      "Epoch 8/20\n",
      "143613/143613 [==============================] - 216s 2ms/step - loss: 0.0690 - auc: 0.9484 - val_loss: 0.0601 - val_auc: 0.9510\n",
      "Epoch 9/20\n",
      "143613/143613 [==============================] - 221s 2ms/step - loss: 0.0583 - auc: 0.9534 - val_loss: 0.0598 - val_auc: 0.9555\n",
      "Epoch 10/20\n",
      "143613/143613 [==============================] - 222s 2ms/step - loss: 0.0546 - auc: 0.9574 - val_loss: 0.0597 - val_auc: 0.9591\n",
      "Epoch 11/20\n",
      "143613/143613 [==============================] - 222s 2ms/step - loss: 0.0500 - auc: 0.9607 - val_loss: 0.0598 - val_auc: 0.9622\n",
      "Epoch 12/20\n",
      "143613/143613 [==============================] - 226s 2ms/step - loss: 0.0456 - auc: 0.9636 - val_loss: 0.0646 - val_auc: 0.9648\n",
      "Epoch 13/20\n",
      "143613/143613 [==============================] - 217s 2ms/step - loss: 0.0471 - auc: 0.9660 - val_loss: 0.0626 - val_auc: 0.9670\n"
     ]
    }
   ],
   "source": [
    "with tf.device('/gpu:0'):\n",
    "    history = model.fit(X_train,y_train,\n",
    "                        validation_data=(X_val, y_val),\n",
    "                        batch_size=256,\n",
    "                        epochs=20,\n",
    "                        class_weight=cw,\n",
    "                        callbacks=[early])"
   ]
  },
  {
   "cell_type": "code",
   "execution_count": 109,
   "metadata": {},
   "outputs": [
    {
     "data": {
      "image/png": "[encoded data removed]",
      "text/plain": [
       "<Figure size 432x288 with 1 Axes>"
      ]
     },
     "metadata": {},
     "output_type": "display_data"
    }
   ],
   "source": [
    "plt.plot(history.history['auc'], label=\"AUC\")\n",
    "plt.plot(history.history['val_auc'], label=\"Validation AUC\")\n",
    "plt.legend()\n",
    "plt.show()"
   ]
  },
  {
   "cell_type": "code",
   "execution_count": 110,
   "metadata": {},
   "outputs": [
    {
     "data": {
      "image/png": "[encoded data removed]",
      "text/plain": [
       "<Figure size 432x288 with 1 Axes>"
      ]
     },
     "metadata": {},
     "output_type": "display_data"
    }
   ],
   "source": [
    "plt.plot(history.history['loss'], label=\"Loss\")\n",
    "plt.plot(history.history['val_loss'], label=\"Validation Loss\")\n",
    "plt.legend()\n",
    "plt.show()"
   ]
  },
  {
   "cell_type": "code",
   "execution_count": 105,
   "metadata": {},
   "outputs": [
    {
     "name": "stdout",
     "output_type": "stream",
     "text": [
      "Validation Precision: [0.7980535279805353, 0.45333333333333331, 0.74534883720930234, 0.27272727272727271, 0.67079889807162529, 0.38157894736842107],\n",
      "\n",
      "Validation Recall: [0.6776859504132231, 0.22666666666666666, 0.78940886699507384, 0.066666666666666666, 0.65369127516778525, 0.24786324786324787],\n",
      "\n",
      "Validation F1: [0.73296089385474861, 0.30222222222222223, 0.76674641148325351, 0.10714285714285715, 0.66213460231135279, 0.30051813471502592]\n"
     ]
    }
   ],
   "source": [
    "val_predict = (np.asarray(model.predict([X_val], batch_size=512))).round()\n",
    "val_target = y_val\n",
    "\n",
    "val_precision = []\n",
    "val_recall = []\n",
    "val_f1 = []\n",
    "for i in range(6):\n",
    "    val_precision.append(metrics.precision_score(val_target[:,i], val_predict[:,i]))\n",
    "    val_recall.append(metrics.recall_score(val_target[:,i], val_predict[:,i]))\n",
    "    val_f1.append(metrics.f1_score(val_target[:,i], val_predict[:,i]))\n",
    "\n",
    "print(\"Validation Precision: {},\\n\\nValidation Recall: {},\\n\\nValidation F1: {}\".format(val_precision, val_recall, val_f1))"
   ]
  },
  {
   "cell_type": "code",
   "execution_count": 106,
   "metadata": {},
   "outputs": [
    {
     "data": {
      "image/png": "[encoded data removed]",
      "text/plain": [
       "<Figure size 432x288 with 1 Axes>"
      ]
     },
     "metadata": {},
     "output_type": "display_data"
    }
   ],
   "source": [
    "names = [\"Toxic\", \"Severe Toxic\", \"Obscene\", \"Threat\", \"Insult\", \"Identity Hate\"]\n",
    "\n",
    "plt.bar(np.arange(6) - 0.3/2,val_precision,0.3,label=\"CW Validation Precision\", tick_label=names)\n",
    "plt.bar(np.arange(6) + 0.3/2,val_recall,0.3,label=\"CW Validation Recall\", tick_label=names)\n",
    "plt.legend(loc='right', bbox_to_anchor=(1.5,0.5))\n",
    "plt.show()"
   ]
  },
  {
   "cell_type": "markdown",
   "metadata": {},
   "source": []
  },
  {
   "cell_type": "markdown",
   "metadata": {},
   "source": [
    "# With class weight in place, it is harder for the network to train and converge, consequently taking extra epochs to compensate for the underclass samples. It takes 17 epochs to reach a good enough model, but comparing to no-class-weight baseline models, the AUC and loss for train and validation are both higher. "
   ]
  },
  {
   "cell_type": "markdown",
   "metadata": {},
   "source": [
    "## Need better class weights or alternative approach(oversample, undersample, cross-validation)."
   ]
  },
  {
   "cell_type": "markdown",
   "metadata": {},
   "source": [
    "# Undersample!"
   ]
  },
  {
   "cell_type": "code",
   "execution_count": 52,
   "metadata": {},
   "outputs": [
    {
     "name": "stdout",
     "output_type": "stream",
     "text": [
      "_________________________________________________________________\n",
      "Layer (type)                 Output Shape              Param #   \n",
      "=================================================================\n",
      "embedding_5 (Embedding)      (None, 100, 300)          6000000   \n",
      "_________________________________________________________________\n",
      "bidirectional_5 (Bidirection (None, 200)               320800    \n",
      "_________________________________________________________________\n",
      "dense_9 (Dense)              (None, 50)                10050     \n",
      "_________________________________________________________________\n",
      "dropout_5 (Dropout)          (None, 50)                0         \n",
      "_________________________________________________________________\n",
      "dense_10 (Dense)             (None, 6)                 306       \n",
      "=================================================================\n",
      "Total params: 6,331,156\n",
      "Trainable params: 6,331,156\n",
      "Non-trainable params: 0\n",
      "_________________________________________________________________\n"
     ]
    }
   ],
   "source": [
    "model1 = Sequential()\n",
    "model1.add(Embedding(max_features,embed_size,weights=[embedding_matrix],input_length=maxlen))\n",
    "model1.add(Bidirectional(LSTM(100,dropout=0.1,recurrent_dropout=0.1)))\n",
    "model1.add(Dense(50, activation=\"relu\"))\n",
    "model1.add(Dropout(0.1))\n",
    "model1.add(Dense(6, activation=\"sigmoid\"))\n",
    "model1.compile(loss='binary_crossentropy',optimizer='adam',metrics=[auc])\n",
    "model1.summary()"
   ]
  },
  {
   "cell_type": "code",
   "execution_count": 53,
   "metadata": {},
   "outputs": [
    {
     "name": "stdout",
     "output_type": "stream",
     "text": [
      "Train on 27593 samples, validate on 15958 samples\n",
      "Epoch 1/1\n",
      "27593/27593 [==============================] - 45s 2ms/step - loss: 0.2922 - auc: 0.8262 - val_loss: 0.0826 - val_auc: 0.9187\n",
      "Train on 27593 samples, validate on 15958 samples\n",
      "Epoch 1/1\n",
      "27593/27593 [==============================] - 43s 2ms/step - loss: 0.2034 - auc: 0.9360 - val_loss: 0.0676 - val_auc: 0.9451\n",
      "Train on 27593 samples, validate on 15958 samples\n",
      "Epoch 1/1\n",
      "27593/27593 [==============================] - 44s 2ms/step - loss: 0.1854 - auc: 0.9511 - val_loss: 0.0660 - val_auc: 0.9550\n",
      "Train on 27593 samples, validate on 15958 samples\n",
      "Epoch 1/1\n",
      "27593/27593 [==============================] - 37s 1ms/step - loss: 0.1723 - auc: 0.9582 - val_loss: 0.0578 - val_auc: 0.9607\n",
      "Train on 27593 samples, validate on 15958 samples\n",
      "Epoch 1/1\n",
      "27593/27593 [==============================] - 37s 1ms/step - loss: 0.1611 - auc: 0.9631 - val_loss: 0.0614 - val_auc: 0.9648\n",
      "Train on 27593 samples, validate on 15958 samples\n",
      "Epoch 1/1\n",
      "27593/27593 [==============================] - 37s 1ms/step - loss: 0.1525 - auc: 0.9665 - val_loss: 0.0632 - val_auc: 0.9678\n",
      "Train on 27593 samples, validate on 15958 samples\n",
      "Epoch 1/1\n",
      "27593/27593 [==============================] - 40s 1ms/step - loss: 0.1412 - auc: 0.9691 - val_loss: 0.0551 - val_auc: 0.9703\n",
      "Train on 27593 samples, validate on 15958 samples\n",
      "Epoch 1/1\n",
      "27593/27593 [==============================] - 39s 1ms/step - loss: 0.1314 - auc: 0.9715 - val_loss: 0.0564 - val_auc: 0.9725\n",
      "Train on 27593 samples, validate on 15958 samples\n",
      "Epoch 1/1\n",
      "27593/27593 [==============================] - 39s 1ms/step - loss: 0.1215 - auc: 0.9735 - val_loss: 0.0564 - val_auc: 0.9744\n",
      "Train on 27593 samples, validate on 15958 samples\n",
      "Epoch 1/1\n",
      "27593/27593 [==============================] - 37s 1ms/step - loss: 0.1128 - auc: 0.9753 - val_loss: 0.0631 - val_auc: 0.9760\n",
      "Train on 27593 samples, validate on 15958 samples\n",
      "Epoch 1/1\n",
      "27593/27593 [==============================] - 38s 1ms/step - loss: 0.1040 - auc: 0.9768 - val_loss: 0.0588 - val_auc: 0.9775\n",
      "Train on 27593 samples, validate on 15958 samples\n",
      "Epoch 1/1\n",
      "27593/27593 [==============================] - 37s 1ms/step - loss: 0.0948 - auc: 0.9782 - val_loss: 0.0595 - val_auc: 0.9788\n",
      "Train on 27593 samples, validate on 15958 samples\n",
      "Epoch 1/1\n",
      "27593/27593 [==============================] - 37s 1ms/step - loss: 0.0869 - auc: 0.9794 - val_loss: 0.0624 - val_auc: 0.9800\n",
      "Train on 27593 samples, validate on 15958 samples\n",
      "Epoch 1/1\n",
      "27593/27593 [==============================] - 37s 1ms/step - loss: 0.0788 - auc: 0.9805 - val_loss: 0.0648 - val_auc: 0.9810\n",
      "Train on 27593 samples, validate on 15958 samples\n",
      "Epoch 1/1\n",
      "27593/27593 [==============================] - 37s 1ms/step - loss: 0.0713 - auc: 0.9815 - val_loss: 0.0706 - val_auc: 0.9819\n",
      "Train on 27593 samples, validate on 15958 samples\n",
      "Epoch 1/1\n",
      "27593/27593 [==============================] - 38s 1ms/step - loss: 0.0653 - auc: 0.9824 - val_loss: 0.0724 - val_auc: 0.9828\n"
     ]
    }
   ],
   "source": [
    "y_majority_index = np.where(np.sum(y_train, axis=1)==0)[0]\n",
    "y_minority_index = np.where(np.sum(y_train, axis=1)!=0)[0]\n",
    "n_undersample = y_majority_index.shape[0]*0.1\n",
    "\n",
    "rauc = []\n",
    "rval_auc = []\n",
    "rloss = []\n",
    "rval_loss = []\n",
    "\n",
    "while True:\n",
    "    index_undersample = np.random.choice(y_majority_index,int(n_undersample),replace=False)\n",
    "    new_index_undersample = np.concatenate([y_minority_index, index_undersample])\n",
    "    x_train_new = X_train[new_index_undersample,:]\n",
    "    y_train_new = y_train[new_index_undersample,:]\n",
    "    with tf.device('/gpu:0'):\n",
    "        hist = model1.fit(x_train_new,y_train_new,validation_data=(X_val, y_val),batch_size=256,epochs=1)\n",
    "    rauc.append(hist.history[\"auc\"])\n",
    "    rval_auc.append(hist.history[\"val_auc\"])\n",
    "    rloss.append(hist.history[\"loss\"])\n",
    "    rval_loss.append(hist.history[\"val_loss\"])\n",
    "    if rval_loss[-1] > rloss[-1]:\n",
    "        break"
   ]
  },
  {
   "cell_type": "code",
   "execution_count": 54,
   "metadata": {},
   "outputs": [
    {
     "data": {
      "image/png": "[encoded data removed]",
      "text/plain": [
       "<Figure size 432x288 with 1 Axes>"
      ]
     },
     "metadata": {},
     "output_type": "display_data"
    }
   ],
   "source": [
    "plt.plot(rauc, label=\"AUC\")\n",
    "plt.plot(rval_auc, label=\"Validation AUC\")\n",
    "plt.legend()\n",
    "plt.show()"
   ]
  },
  {
   "cell_type": "code",
   "execution_count": 55,
   "metadata": {},
   "outputs": [
    {
     "data": {
      "image/png": "[encoded data removed]",
      "text/plain": [
       "<Figure size 432x288 with 1 Axes>"
      ]
     },
     "metadata": {},
     "output_type": "display_data"
    }
   ],
   "source": [
    "plt.plot(rloss, label=\"Loss\")\n",
    "plt.plot(rval_loss, label=\"Validation Loss\")\n",
    "plt.legend()\n",
    "plt.show()"
   ]
  },
  {
   "cell_type": "code",
   "execution_count": 56,
   "metadata": {},
   "outputs": [
    {
     "name": "stdout",
     "output_type": "stream",
     "text": [
      "Validation Precision: [0.62411347517730498, 0.37142857142857144, 0.73266219239373598, 0.39130434782608697, 0.6440049443757726, 0.46153846153846156],\n",
      "\n",
      "Validation Recall: [0.84848484848484851, 0.26000000000000001, 0.80665024630541871, 0.20000000000000001, 0.69932885906040265, 0.51282051282051277],\n",
      "\n",
      "Validation F1: [0.71920607122008162, 0.30588235294117644, 0.76787807737397429, 0.26470588235294118, 0.67052767052767059, 0.48582995951417002]\n"
     ]
    }
   ],
   "source": [
    "val_predict1 = (np.asarray(model1.predict([X_val], batch_size=512))).round()\n",
    "\n",
    "val_precision1 = []\n",
    "val_recall1 = []\n",
    "val_f11 = []\n",
    "for i in range(6):\n",
    "    val_precision1.append(metrics.precision_score(val_target[:,i], val_predict1[:,i]))\n",
    "    val_recall1.append(metrics.recall_score(val_target[:,i], val_predict1[:,i]))\n",
    "    val_f11.append(metrics.f1_score(val_target[:,i], val_predict1[:,i]))\n",
    "\n",
    "print(\"Validation Precision: {},\\n\\nValidation Recall: {},\\n\\nValidation F1: {}\".format(val_precision1, val_recall1, val_f11))"
   ]
  },
  {
   "cell_type": "code",
   "execution_count": 64,
   "metadata": {},
   "outputs": [
    {
     "data": {
      "image/png": "[encoded data removed]",
      "text/plain": [
       "<Figure size 432x288 with 1 Axes>"
      ]
     },
     "metadata": {},
     "output_type": "display_data"
    }
   ],
   "source": [
    "plt.bar(np.arange(6) - 0.3/2,val_precision1,0.3,label=\"Undersample Validation Precision\", tick_label=names)\n",
    "plt.bar(np.arange(6) + 0.3/2,val_recall1,0.3,label=\"Undersample Validation Recall\", tick_label=names)\n",
    "plt.legend(loc='right', bbox_to_anchor=(1.65,0.5))\n",
    "plt.show()"
   ]
  },
  {
   "cell_type": "markdown",
   "metadata": {},
   "source": [
    "# Way better result comparing to Class Weights. Took 15 epochs."
   ]
  },
  {
   "cell_type": "markdown",
   "metadata": {},
   "source": [
    "# Undersample and penalize at the same time."
   ]
  },
  {
   "cell_type": "code",
   "execution_count": null,
   "metadata": {},
   "outputs": [],
   "source": [
    "model2 = Sequential()\n",
    "model2.add(Embedding(max_features,embed_size,weights=[embedding_matrix],input_length=maxlen))\n",
    "model2.add(Bidirectional(LSTM(100,dropout=0.1,recurrent_dropout=0.1)))\n",
    "model2.add(Dense(50, activation=\"relu\"))\n",
    "model2.add(Dropout(0.1))\n",
    "model2.add(Dense(5, activation=\"sigmoid\"))\n",
    "model2.compile(loss='binary_crossentropy',optimizer='adam',metrics=[auc])\n",
    "model2.summary()"
   ]
  },
  {
   "cell_type": "code",
   "execution_count": null,
   "metadata": {},
   "outputs": [],
   "source": [
    "y_majority_index = np.where(np.sum(y_train, axis=1)==0)[0]\n",
    "y_minority_index = np.where(np.sum(y_train, axis=1)!=0)[0]\n",
    "n_undersample = y_majority_index.shape[0]*0.1\n",
    "\n",
    "r2auc = []\n",
    "r2val_auc = []\n",
    "r2loss = []\n",
    "r2val_loss = []\n",
    "\n",
    "cw = {0:1, 1:30, 2:5, 3:100, 4:6, 5:30}\n",
    "\n",
    "while True:\n",
    "    index_undersample = np.random.choice(y_majority_index,int(n_undersample),replace=False)\n",
    "    new_index_undersample = np.concatenate([y_minority_index, index_undersample])\n",
    "    x_train_new = X_train[new_index_undersample,:]\n",
    "    y_train_new = y_train[new_index_undersample,:]\n",
    "    with tf.device('/gpu:0'):\n",
    "        hist = model2.fit(x_train_new,y_train_new,validation_data=(X_val, y_val),batch_size=256,epochs=1,class_weight=cw,)\n",
    "    r2auc.append(hist.history[\"auc\"])\n",
    "    r2val_auc.append(hist.history[\"val_auc\"])\n",
    "    r2loss.append(hist.history[\"loss\"])\n",
    "    r2val_loss.append(hist.history[\"val_loss\"])\n",
    "    if r2val_loss[-1] > r2loss[-1]:\n",
    "        break"
   ]
  },
  {
   "cell_type": "code",
   "execution_count": null,
   "metadata": {},
   "outputs": [],
   "source": [
    "plt.plot(r2auc, label=\"AUC\")\n",
    "plt.plot(r2val_auc, label=\"Validation AUC\")\n",
    "plt.legend()\n",
    "plt.show()"
   ]
  },
  {
   "cell_type": "code",
   "execution_count": null,
   "metadata": {},
   "outputs": [],
   "source": [
    "plt.plot(r2loss, label=\"Loss\")\n",
    "plt.plot(r2val_loss, label=\"Validation Loss\")\n",
    "plt.legend()\n",
    "plt.show()"
   ]
  },
  {
   "cell_type": "code",
   "execution_count": null,
   "metadata": {},
   "outputs": [],
   "source": [
    "val_predict2 = (np.asarray(model2.predict([X_val], batch_size=512))).round()\n",
    "\n",
    "val_precision2 = []\n",
    "val_recall2 = []\n",
    "val_f12 = []\n",
    "for i in range(6):\n",
    "    val_precision2.append(metrics.precision_score(val_target[:,i], val_predict2[:,i]))\n",
    "    val_recall2.append(metrics.recall_score(val_target[:,i], val_predict2[:,i]))\n",
    "    val_f12.append(metrics.f1_score(val_target[:,i], val_predict2[:,i]))\n",
    "\n",
    "print(\"Validation Precision: {},\\n\\nValidation Recall: {},\\n\\nValidation F1: {}\".format(val_precision2, val_recall2, val_f12))"
   ]
  },
  {
   "cell_type": "code",
   "execution_count": null,
   "metadata": {},
   "outputs": [],
   "source": []
  },
  {
   "cell_type": "code",
   "execution_count": 107,
   "metadata": {},
   "outputs": [
    {
     "name": "stdout",
     "output_type": "stream",
     "text": [
      "Train on 143613 samples, validate on 15958 samples\n",
      "Epoch 1/20\n",
      "143613/143613 [==============================] - 210s 1ms/step - loss: 0.0958 - auc: 0.8669 - val_loss: 0.0469 - val_auc: 0.9520\n",
      "Epoch 2/20\n",
      "143613/143613 [==============================] - 208s 1ms/step - loss: 0.0632 - auc: 0.9627 - val_loss: 0.0448 - val_auc: 0.9690\n",
      "Epoch 3/20\n",
      "143613/143613 [==============================] - 207s 1ms/step - loss: 0.0553 - auc: 0.9728 - val_loss: 0.0435 - val_auc: 0.9755\n",
      "Epoch 4/20\n",
      "143613/143613 [==============================] - 208s 1ms/step - loss: 0.0485 - auc: 0.9776 - val_loss: 0.0457 - val_auc: 0.9793\n",
      "Epoch 5/20\n",
      "143613/143613 [==============================] - 207s 1ms/step - loss: 0.0424 - auc: 0.9808 - val_loss: 0.0467 - val_auc: 0.9819\n",
      "Epoch 6/20\n",
      "143613/143613 [==============================] - 206s 1ms/step - loss: 0.0365 - auc: 0.9830 - val_loss: 0.0496 - val_auc: 0.9838\n"
     ]
    }
   ],
   "source": [
    "model = Sequential()\n",
    "model.add(Embedding(max_features,embed_size,weights=[embedding_matrix],input_length=maxlen))\n",
    "model.add(Bidirectional(LSTM(100,dropout=0.1,recurrent_dropout=0.1)))\n",
    "model.add(Dense(50, activation=\"relu\"))\n",
    "model.add(Dropout(0.1))\n",
    "model.add(Dense(6, activation=\"sigmoid\"))\n",
    "model.compile(loss='binary_crossentropy',optimizer='adam',metrics=[auc])\n",
    "early = EarlyStopping(monitor=\"val_loss\", mode=\"min\", patience=3)\n",
    "import math\n",
    "def create_class_weight(labels_dict):\n",
    "    total = sum(labels_dict.values())\n",
    "    keys = labels_dict.keys()\n",
    "    class_weight = dict()\n",
    "\n",
    "    for key in keys:\n",
    "        score = math.log(total/float(labels_dict[key]))\n",
    "        class_weight[key] = score if score > 1.0 else 1.0\n",
    "\n",
    "    return class_weight\n",
    "\n",
    "labels_dict = {0: 143346, 1: 15294, 2: 1595, 3: 8449, 4: 478, 5: 7877, 6: 1405}\n",
    "cw = create_class_weight(labels_dict)\n",
    "with tf.device('/gpu:0'):\n",
    "    history = model.fit(X_train,y_train,\n",
    "                        validation_data=(X_val, y_val),\n",
    "                        batch_size=256,\n",
    "                        epochs=20,\n",
    "                        class_weight=cw,\n",
    "                        callbacks=[early])"
   ]
  },
  {
   "cell_type": "code",
   "execution_count": 108,
   "metadata": {},
   "outputs": [
    {
     "name": "stdout",
     "output_type": "stream",
     "text": [
      "Validation Precision: [0.78621169916434541, 0.41025641025641024, 0.79201934703748489, 0.5714285714285714, 0.70738255033557051, 0.48863636363636365],\n",
      "\n",
      "Validation Recall: [0.77754820936639113, 0.32000000000000001, 0.80665024630541871, 0.17777777777777778, 0.70738255033557051, 0.36752136752136755]\n"
     ]
    }
   ],
   "source": [
    "val_predict = (np.asarray(model.predict([X_val], batch_size=512))).round()\n",
    "val_target = y_val\n",
    "\n",
    "val_precision = []\n",
    "val_recall = []\n",
    "for i in range(6):\n",
    "    val_precision.append(metrics.precision_score(val_target[:,i], val_predict[:,i]))\n",
    "    val_recall.append(metrics.recall_score(val_target[:,i], val_predict[:,i]))\n",
    "\n",
    "print(\"Validation Precision: {},\\n\\nValidation Recall: {}\".format(val_precision, val_recall))"
   ]
  },
  {
   "cell_type": "code",
   "execution_count": null,
   "metadata": {},
   "outputs": [],
   "source": []
  }
 ],
 "metadata": {
  "kernelspec": {
   "display_name": "Python 3",
   "language": "python",
   "name": "python3"
  },
  "language_info": {
   "codemirror_mode": {
    "name": "ipython",
    "version": 3
   },
   "file_extension": ".py",
   "mimetype": "text/x-python",
   "name": "python",
   "nbconvert_exporter": "python",
   "pygments_lexer": "ipython3",
   "version": "3.5.2"
  }
 },
 "nbformat": 4,
 "nbformat_minor": 2
}
