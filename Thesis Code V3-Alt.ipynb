{
 "cells": [
  {
   "cell_type": "markdown",
   "metadata": {},
   "source": [
    "# Load Dependencies"
   ]
  },
  {
   "cell_type": "code",
   "execution_count": 1,
   "metadata": {},
   "outputs": [],
   "source": [
    "# -*- coding: unicode -*-"
   ]
  },
  {
   "cell_type": "code",
   "execution_count": 2,
   "metadata": {},
   "outputs": [
    {
     "name": "stderr",
     "output_type": "stream",
     "text": [
      "Using TensorFlow backend.\n",
      "C:\\Users\\insuf\\AppData\\Local\\conda\\conda\\envs\\python352\\lib\\site-packages\\gensim\\utils.py:1197: UserWarning: detected Windows; aliasing chunkize to chunkize_serial\n",
      "  warnings.warn(\"detected Windows; aliasing chunkize to chunkize_serial\")\n"
     ]
    }
   ],
   "source": [
    "import sys, os, re, csv, codecs, numpy as np, pandas as pd\n",
    "# os.environ[\"CUDA_DEVICE_ORDER\"] = \"PCI_BUS_ID\"   # see issue #152\n",
    "# os.environ[\"CUDA_VISIBLE_DEVICES\"] = \"\"\n",
    "import tensorflow as tf\n",
    "from keras import backend as K\n",
    "from keras.preprocessing.text import Tokenizer\n",
    "from keras.preprocessing.sequence import pad_sequences\n",
    "from matplotlib import pyplot as plt\n",
    "import gensim\n",
    "import nltk\n",
    "from sklearn import metrics\n",
    "from sklearn.model_selection import train_test_split\n",
    "from keras.layers import Dense, Input, LSTM, Embedding, Dropout, Activation, GRU\n",
    "from keras.layers import Bidirectional, BatchNormalization, GlobalMaxPooling1D\n",
    "from keras.models import Model, Sequential\n",
    "from keras.utils import plot_model\n",
    "from keras import initializers, regularizers, constraints, optimizers, layers\n",
    "from keras.callbacks import TensorBoard, EarlyStopping, Callback"
   ]
  },
  {
   "cell_type": "code",
   "execution_count": 3,
   "metadata": {},
   "outputs": [],
   "source": [
    "from keras.backend.tensorflow_backend import set_session\n",
    "\n",
    "config = tf.ConfigProto()\n",
    "config.gpu_options.per_process_gpu_memory_fraction = 0.3\n",
    "set_session(tf.Session(config=config))"
   ]
  },
  {
   "cell_type": "code",
   "execution_count": 4,
   "metadata": {},
   "outputs": [],
   "source": [
    "assert gensim.models.doc2vec.FAST_VERSION > -1"
   ]
  },
  {
   "cell_type": "code",
   "execution_count": 5,
   "metadata": {},
   "outputs": [
    {
     "name": "stdout",
     "output_type": "stream",
     "text": [
      "[nltk_data] Downloading package stopwords to\n",
      "[nltk_data]     C:\\Users\\insuf\\AppData\\Roaming\\nltk_data...\n",
      "[nltk_data]   Package stopwords is already up-to-date!\n",
      "[nltk_data] Downloading package punkt to\n",
      "[nltk_data]     C:\\Users\\insuf\\AppData\\Roaming\\nltk_data...\n",
      "[nltk_data]   Package punkt is already up-to-date!\n"
     ]
    },
    {
     "data": {
      "text/plain": [
       "True"
      ]
     },
     "execution_count": 5,
     "metadata": {},
     "output_type": "execute_result"
    }
   ],
   "source": [
    "nltk.download('stopwords')\n",
    "nltk.download('punkt')"
   ]
  },
  {
   "cell_type": "code",
   "execution_count": 6,
   "metadata": {},
   "outputs": [
    {
     "name": "stdout",
     "output_type": "stream",
     "text": [
      "[name: \"/cpu:0\"\n",
      "device_type: \"CPU\"\n",
      "memory_limit: 268435456\n",
      "locality {\n",
      "}\n",
      "incarnation: 2889012619958428759\n",
      ", name: \"/gpu:0\"\n",
      "device_type: \"GPU\"\n",
      "memory_limit: 3129039257\n",
      "locality {\n",
      "  bus_id: 1\n",
      "}\n",
      "incarnation: 6539754278862205395\n",
      "physical_device_desc: \"device: 0, name: GeForce GTX 1060 6GB, pci bus id: 0000:01:00.0\"\n",
      "]\n"
     ]
    }
   ],
   "source": [
    "from tensorflow.python.client import device_lib\n",
    "print(device_lib.list_local_devices())"
   ]
  },
  {
   "cell_type": "markdown",
   "metadata": {},
   "source": [
    "# Data Preprocessing"
   ]
  },
  {
   "cell_type": "code",
   "execution_count": 7,
   "metadata": {},
   "outputs": [],
   "source": [
    "from numpy.random import seed\n",
    "seed(123)\n",
    "from tensorflow import set_random_seed\n",
    "set_random_seed(123)"
   ]
  },
  {
   "cell_type": "code",
   "execution_count": 8,
   "metadata": {},
   "outputs": [],
   "source": [
    "train = pd.read_csv('train_clean.csv')\n",
    "train.comment_text = train.comment_text.astype(str)"
   ]
  },
  {
   "cell_type": "code",
   "execution_count": 9,
   "metadata": {},
   "outputs": [],
   "source": [
    "list_classes = list_classes = [\"toxic\", \"obscene\", \"threat\", \"insult\", \"identity_hate\"]\n",
    "y = train[list_classes].values\n",
    "list_sentences_train = train[\"comment_text\"]"
   ]
  },
  {
   "cell_type": "code",
   "execution_count": 10,
   "metadata": {},
   "outputs": [
    {
     "data": {
      "text/plain": [
       "223043"
      ]
     },
     "execution_count": 10,
     "metadata": {},
     "output_type": "execute_result"
    }
   ],
   "source": [
    "max_features = 20000\n",
    "tokenizer = Tokenizer(num_words=max_features)\n",
    "tokenizer.fit_on_texts(list(list_sentences_train))\n",
    "list_tokenized_train = tokenizer.texts_to_sequences(list_sentences_train)\n",
    "len(tokenizer.word_index)"
   ]
  },
  {
   "cell_type": "code",
   "execution_count": 11,
   "metadata": {},
   "outputs": [],
   "source": [
    "# totalNumWords = [len(one_comment) for one_comment in list_tokenized_train]\n",
    "# plt.hist(totalNumWords)\n",
    "# plt.show()"
   ]
  },
  {
   "cell_type": "code",
   "execution_count": 12,
   "metadata": {},
   "outputs": [],
   "source": [
    "# meanLen = np.mean(totalNumWords)\n",
    "# stdLen = np.std(totalNumWords)\n",
    "# ub = meanLen + 2.576*stdLen/np.sqrt(len(totalNumWords))\n",
    "# ub"
   ]
  },
  {
   "cell_type": "code",
   "execution_count": 13,
   "metadata": {},
   "outputs": [],
   "source": [
    "maxlen = 100\n",
    "X_t = pad_sequences(list_tokenized_train,maxlen=maxlen,padding='post')"
   ]
  },
  {
   "cell_type": "code",
   "execution_count": 14,
   "metadata": {},
   "outputs": [],
   "source": [
    "# X_t[1]"
   ]
  },
  {
   "cell_type": "code",
   "execution_count": 15,
   "metadata": {},
   "outputs": [],
   "source": [
    "# list_sentences_train[1]"
   ]
  },
  {
   "cell_type": "code",
   "execution_count": 16,
   "metadata": {},
   "outputs": [],
   "source": [
    "# list_sentences_train"
   ]
  },
  {
   "cell_type": "code",
   "execution_count": 17,
   "metadata": {},
   "outputs": [],
   "source": [
    "# X_t[1]"
   ]
  },
  {
   "cell_type": "code",
   "execution_count": 18,
   "metadata": {},
   "outputs": [],
   "source": [
    "# description = train.comment_text.values.tolist()\n",
    "# stop_words = set(nltk.corpus.stopwords.words('english'))\n",
    "\n",
    "\n",
    "# # Function to filter stop words from tokens for each sentence\n",
    "# def sentence_filter(sentence_token, stop_words):\n",
    "#     filtered = []\n",
    "#     for token in sentence_token:\n",
    "#         if not token in stop_words:\n",
    "#             filtered.append(token)\n",
    "#     return filtered\n",
    "\n",
    "\n",
    "# # Input description, tokenize each sentence and return token for each sentence without stopping words\n",
    "# def sentence_tokenizer(description, stop_words):\n",
    "#     value = []\n",
    "#     for sentence in description:\n",
    "#         sentence = sentence.lower()\n",
    "#         tokenizer_ = nltk.tokenize.RegexpTokenizer(r'[a-zA-Z]+')\n",
    "#         sentence_token = tokenizer_.tokenize(sentence)\n",
    "#         # sentence_token = nltk.word_tokenize(sentence)\n",
    "#         filtered_token = sentence_filter(sentence_token, stop_words)\n",
    "#         value.append(filtered_token)\n",
    "#     return value\n",
    "\n",
    "\n",
    "# # Tokenize the sentence\n",
    "# description_token = sentence_tokenizer(description, stop_words)"
   ]
  },
  {
   "cell_type": "code",
   "execution_count": 19,
   "metadata": {},
   "outputs": [],
   "source": [
    "# len(description_token)"
   ]
  },
  {
   "cell_type": "code",
   "execution_count": 20,
   "metadata": {},
   "outputs": [],
   "source": [
    "# Skip gram model with minimum word count = 10 and output vector of length 300\n",
    "# model_sg = gensim.models.Word2Vec(description_token, window=2, min_count=10, size=300, workers=4, seed=123, iter=10)\n",
    "\n",
    "# CBOW(continuous bag of words) model\n",
    "# model_cbow = gensim.models.Word2Vec(description_token, window=2, min_count=10, size=300, workers=4, seed=123, iter=10)"
   ]
  },
  {
   "cell_type": "code",
   "execution_count": 21,
   "metadata": {},
   "outputs": [],
   "source": [
    "# model_sg.save('model_sg')"
   ]
  },
  {
   "cell_type": "code",
   "execution_count": 22,
   "metadata": {},
   "outputs": [],
   "source": [
    "# model_cbow.save('model_cbow')"
   ]
  },
  {
   "cell_type": "code",
   "execution_count": 23,
   "metadata": {},
   "outputs": [
    {
     "name": "stdout",
     "output_type": "stream",
     "text": [
      "Loaded 25653 word vectors.\n",
      "total embedded: 19861 common words\n"
     ]
    }
   ],
   "source": [
    "model_sg = gensim.models.Word2Vec.load('model_sg')\n",
    "\n",
    "embed_size = 300\n",
    "embeddings_index = dict()\n",
    "for word in model_sg.wv.vocab:\n",
    "    embeddings_index[word] = model_sg.wv[word]\n",
    "print('Loaded %s word vectors.' % len(embeddings_index))\n",
    "\n",
    "nb_words = min(max_features, len(tokenizer.word_index))\n",
    "embedding_matrix = np.zeros((nb_words, embed_size))\n",
    "\n",
    "embeddedCount = 0\n",
    "for word, i in tokenizer.word_index.items():\n",
    "    if i >= max_features: continue\n",
    "    embedding_vector = embeddings_index.get(word)\n",
    "    if embedding_vector is not None:\n",
    "        # words not found in embedding index will be all-zeros.\n",
    "        embedding_matrix[i] = embedding_vector\n",
    "        embeddedCount += 1\n",
    "print('total embedded:',embeddedCount,'common words')"
   ]
  },
  {
   "cell_type": "code",
   "execution_count": 24,
   "metadata": {},
   "outputs": [
    {
     "data": {
      "text/plain": [
       "2451"
      ]
     },
     "execution_count": 24,
     "metadata": {},
     "output_type": "execute_result"
    }
   ],
   "source": [
    "tokenizer.word_index['stuck']"
   ]
  },
  {
   "cell_type": "code",
   "execution_count": 25,
   "metadata": {},
   "outputs": [],
   "source": [
    "# model_cbow = gensim.models.Word2Vec.load('model_cbow')\n",
    "\n",
    "# embed_size = 300\n",
    "# embeddings_index = dict()\n",
    "# for word in model_cbow.wv.vocab:\n",
    "#     embeddings_index[word] = model_cbow.wv[word]\n",
    "# print('Loaded %s word vectors.' % len(embeddings_index))\n",
    "\n",
    "# nb_words = min(max_features, len(tokenizer.word_index))\n",
    "# embedding_matrix = np.zeros((nb_words, embed_size))\n",
    "\n",
    "# embeddedCount = 0\n",
    "# for word, i in tokenizer.word_index.items():\n",
    "#     if i >= max_features: continue\n",
    "#     embedding_vector = embeddings_index.get(word)\n",
    "#     if embedding_vector is not None:\n",
    "#         # words not found in embedding index will be all-zeros.\n",
    "#         embedding_matrix[i] = embedding_vector\n",
    "#         embeddedCount += 1\n",
    "# print('total embedded:',embeddedCount,'common words')"
   ]
  },
  {
   "cell_type": "code",
   "execution_count": 26,
   "metadata": {},
   "outputs": [
    {
     "data": {
      "text/plain": [
       "(20000, 300)"
      ]
     },
     "execution_count": 26,
     "metadata": {},
     "output_type": "execute_result"
    }
   ],
   "source": [
    "embedding_matrix.shape"
   ]
  },
  {
   "cell_type": "code",
   "execution_count": 27,
   "metadata": {},
   "outputs": [],
   "source": [
    "# model_sg.wv.most_similar('rape')"
   ]
  },
  {
   "cell_type": "code",
   "execution_count": 28,
   "metadata": {},
   "outputs": [],
   "source": [
    "def auc(y_true, y_pred):\n",
    "     auc = tf.metrics.auc(y_true, y_pred)[1]\n",
    "     K.get_session().run(tf.local_variables_initializer())\n",
    "     return auc"
   ]
  },
  {
   "cell_type": "code",
   "execution_count": 29,
   "metadata": {},
   "outputs": [],
   "source": [
    "# def precision(y_true, y_pred):\n",
    "#     tp = tf.metrics.true_positives(y_true, y_pred)[1]\n",
    "#     fp = tf.metrics.false_positives(y_true, y_pred)[1]\n",
    "#     precision = tp/(tp+fp)\n",
    "#     K.get_session().run(tf.local_variables_initializer())\n",
    "#     return precision"
   ]
  },
  {
   "cell_type": "code",
   "execution_count": 30,
   "metadata": {},
   "outputs": [],
   "source": [
    "# def recall(y_true, y_pred):\n",
    "#     tp = tf.metrics.true_positives(y_true, y_pred)[1]\n",
    "#     fn = tf.metrics.false_negatives(y_true, y_pred)[1]\n",
    "#     recall = tp/(tp+fn)\n",
    "#     K.get_session().run(tf.local_variables_initializer())\n",
    "#     return recall"
   ]
  },
  {
   "cell_type": "code",
   "execution_count": 31,
   "metadata": {},
   "outputs": [],
   "source": [
    "# class Metrics(Callback):\n",
    "#     def on_train_begin(self, logs={}):\n",
    "#         self.val_recalls = []\n",
    "#         self.val_precisions = []\n",
    "\n",
    "#     def on_batch_end(self, epoch, logs={}):\n",
    "#         val_predict = (np.asarray(self.model.predict(self.validation_data[0]))).round()\n",
    "#         val_targ = self.validation_data[1]\n",
    "#         _val_recall = metrics.recall_score(val_targ, val_predict)\n",
    "#         _val_precision = metrics.precision_score(val_targ, val_predict)\n",
    "#         self.val_recalls.append(_val_recall)\n",
    "#         self.val_precisions.append(_val_precision)\n",
    "#         print(\" — val_precision: {} — val_recall {}\".format(_val_precision, _val_recall))\n",
    "#         return\n",
    "\n",
    "# pr = Metrics()"
   ]
  },
  {
   "cell_type": "code",
   "execution_count": 32,
   "metadata": {},
   "outputs": [
    {
     "name": "stderr",
     "output_type": "stream",
     "text": [
      "C:\\Users\\insuf\\AppData\\Local\\conda\\conda\\envs\\python352\\lib\\site-packages\\sklearn\\model_selection\\_split.py:2026: FutureWarning: From version 0.21, test_size will always complement train_size unless both are specified.\n",
      "  FutureWarning)\n"
     ]
    }
   ],
   "source": [
    "X_train, X_val, y_train, y_val = train_test_split(X_t, y, train_size=0.9, random_state=123)"
   ]
  },
  {
   "cell_type": "code",
   "execution_count": 33,
   "metadata": {},
   "outputs": [
    {
     "name": "stdout",
     "output_type": "stream",
     "text": [
      "_________________________________________________________________\n",
      "Layer (type)                 Output Shape              Param #   \n",
      "=================================================================\n",
      "embedding_1 (Embedding)      (None, 100, 300)          6000000   \n",
      "_________________________________________________________________\n",
      "bidirectional_1 (Bidirection (None, 200)               320800    \n",
      "_________________________________________________________________\n",
      "dense_1 (Dense)              (None, 50)                10050     \n",
      "_________________________________________________________________\n",
      "dropout_1 (Dropout)          (None, 50)                0         \n",
      "_________________________________________________________________\n",
      "dense_2 (Dense)              (None, 5)                 255       \n",
      "=================================================================\n",
      "Total params: 6,331,105\n",
      "Trainable params: 6,331,105\n",
      "Non-trainable params: 0\n",
      "_________________________________________________________________\n"
     ]
    }
   ],
   "source": [
    "model = Sequential()\n",
    "model.add(Embedding(max_features,embed_size,weights=[embedding_matrix],input_length=maxlen))\n",
    "model.add(Bidirectional(LSTM(100,dropout=0.1,recurrent_dropout=0.1)))\n",
    "model.add(Dense(50, activation=\"relu\"))\n",
    "model.add(Dropout(0.1))\n",
    "model.add(Dense(5, activation=\"sigmoid\"))\n",
    "model.compile(loss='binary_crossentropy',optimizer='adam',metrics=[auc])\n",
    "model.summary()"
   ]
  },
  {
   "cell_type": "code",
   "execution_count": 34,
   "metadata": {},
   "outputs": [],
   "source": [
    "# plot_model(model, to_file='model.png')"
   ]
  },
  {
   "cell_type": "code",
   "execution_count": 35,
   "metadata": {},
   "outputs": [],
   "source": [
    "early = EarlyStopping(monitor=\"val_loss\", mode=\"min\")"
   ]
  },
  {
   "cell_type": "code",
   "execution_count": 36,
   "metadata": {},
   "outputs": [
    {
     "name": "stdout",
     "output_type": "stream",
     "text": [
      "Train on 143613 samples, validate on 15958 samples\n",
      "Epoch 1/10\n",
      "143613/143613 [==============================] - 165s 1ms/step - loss: 0.0846 - auc: 0.8820 - val_loss: 0.0515 - val_auc: 0.9541\n",
      "Epoch 2/10\n",
      "143613/143613 [==============================] - 163s 1ms/step - loss: 0.0532 - auc: 0.9636 - val_loss: 0.0471 - val_auc: 0.9691\n",
      "Epoch 3/10\n",
      "143613/143613 [==============================] - 164s 1ms/step - loss: 0.0470 - auc: 0.9727 - val_loss: 0.0468 - val_auc: 0.9751\n",
      "Epoch 4/10\n",
      "143613/143613 [==============================] - 163s 1ms/step - loss: 0.0418 - auc: 0.9772 - val_loss: 0.0470 - val_auc: 0.9788\n"
     ]
    }
   ],
   "source": [
    "with tf.device('/gpu:0'):\n",
    "    history = model.fit(X_train,y_train,batch_size=256,epochs=10,validation_data=(X_val, y_val), callbacks=[early])"
   ]
  },
  {
   "cell_type": "code",
   "execution_count": 37,
   "metadata": {},
   "outputs": [
    {
     "name": "stdout",
     "output_type": "stream",
     "text": [
      "Validation Precision: [0.84437596302003082, 0.82375478927203061, 1.0, 0.7750385208012327, 0.65454545454545454],\n",
      "\n",
      "Validation Recall: [0.75482093663911842, 0.79433497536945807, 0.066666666666666666, 0.67516778523489929, 0.30769230769230771],\n",
      "\n",
      "Validation F1: [0.79709090909090907, 0.80877742946708464, 0.125, 0.72166427546628398, 0.41860465116279072]\n"
     ]
    }
   ],
   "source": [
    "val_predict = (np.asarray(model.predict([X_val], batch_size=512))).round()\n",
    "val_target = y_val\n",
    "\n",
    "val_precision = []\n",
    "val_recall = []\n",
    "val_f1 = []\n",
    "for i in range(5):\n",
    "    val_precision.append(metrics.precision_score(val_target[:,i], val_predict[:,i]))\n",
    "    val_recall.append(metrics.recall_score(val_target[:,i], val_predict[:,i]))\n",
    "    val_f1.append(metrics.f1_score(val_target[:,i], val_predict[:,i]))\n",
    "\n",
    "print(\"Validation Precision: {},\\n\\nValidation Recall: {},\\n\\nValidation F1: {}\".format(val_precision, val_recall, val_f1))"
   ]
  },
  {
   "cell_type": "code",
   "execution_count": 38,
   "metadata": {},
   "outputs": [
    {
     "data": {
      "image/png": "[encoded data removed]",
      "text/plain": [
       "<Figure size 432x288 with 1 Axes>"
      ]
     },
     "metadata": {},
     "output_type": "display_data"
    }
   ],
   "source": [
    "plt.plot(history.history['auc'], label=\"AUC\")\n",
    "plt.plot(history.history['val_auc'], label=\"Validation AUC\")\n",
    "plt.legend()\n",
    "plt.show()"
   ]
  },
  {
   "cell_type": "code",
   "execution_count": 39,
   "metadata": {},
   "outputs": [
    {
     "data": {
      "image/png": "[encoded data removed]",
      "text/plain": [
       "<Figure size 432x288 with 1 Axes>"
      ]
     },
     "metadata": {},
     "output_type": "display_data"
    }
   ],
   "source": [
    "plt.plot(history.history['loss'], label=\"Loss\")\n",
    "plt.plot(history.history['val_loss'], label=\"Validation Loss\")\n",
    "plt.legend()\n",
    "plt.show()"
   ]
  },
  {
   "cell_type": "code",
   "execution_count": 40,
   "metadata": {},
   "outputs": [
    {
     "data": {
      "image/png": "[encoded data removed]",
      "text/plain": [
       "<Figure size 432x288 with 1 Axes>"
      ]
     },
     "metadata": {},
     "output_type": "display_data"
    }
   ],
   "source": [
    "names = [\"Toxic\", \"Obscene\", \"Threat\", \"Insult\", \"Identity Hate\"]\n",
    "\n",
    "plt.bar(np.arange(5)-0.3/2, val_precision, 0.3, label=\"Baseline Validation Precision\", tick_label=names)\n",
    "plt.bar(np.arange(5)+0.3/2, val_recall, 0.3, label=\"Baseline Validation Recall\", tick_label=names)\n",
    "\n",
    "plt.legend(loc='right', bbox_to_anchor=(1.6,0.5))\n",
    "plt.show()"
   ]
  },
  {
   "cell_type": "markdown",
   "metadata": {},
   "source": [
    "# Use GRU instead of LSTM"
   ]
  },
  {
   "cell_type": "code",
   "execution_count": 41,
   "metadata": {},
   "outputs": [
    {
     "name": "stdout",
     "output_type": "stream",
     "text": [
      "_________________________________________________________________\n",
      "Layer (type)                 Output Shape              Param #   \n",
      "=================================================================\n",
      "embedding_2 (Embedding)      (None, 100, 300)          6000000   \n",
      "_________________________________________________________________\n",
      "bidirectional_2 (Bidirection (None, 200)               240600    \n",
      "_________________________________________________________________\n",
      "dense_3 (Dense)              (None, 50)                10050     \n",
      "_________________________________________________________________\n",
      "dropout_2 (Dropout)          (None, 50)                0         \n",
      "_________________________________________________________________\n",
      "dense_4 (Dense)              (None, 5)                 255       \n",
      "=================================================================\n",
      "Total params: 6,250,905\n",
      "Trainable params: 6,250,905\n",
      "Non-trainable params: 0\n",
      "_________________________________________________________________\n"
     ]
    }
   ],
   "source": [
    "model2 = Sequential()\n",
    "model2.add(Embedding(max_features,embed_size,weights=[embedding_matrix],input_length=maxlen))\n",
    "model2.add(Bidirectional(GRU(100,dropout=0.1,recurrent_dropout=0.1)))\n",
    "model2.add(Dense(50, activation=\"relu\"))\n",
    "model2.add(Dropout(0.1))\n",
    "model2.add(Dense(5, activation=\"sigmoid\"))\n",
    "model2.compile(loss='binary_crossentropy',optimizer='adam',metrics=[auc])\n",
    "model2.summary()"
   ]
  },
  {
   "cell_type": "code",
   "execution_count": 42,
   "metadata": {},
   "outputs": [],
   "source": [
    "# plot_model(model2, to_file='model2.png')"
   ]
  },
  {
   "cell_type": "code",
   "execution_count": 43,
   "metadata": {},
   "outputs": [
    {
     "name": "stdout",
     "output_type": "stream",
     "text": [
      "Train on 143613 samples, validate on 15958 samples\n",
      "Epoch 1/10\n",
      "143613/143613 [==============================] - 128s 894us/step - loss: 0.0814 - auc: 0.8840 - val_loss: 0.0482 - val_auc: 0.9582\n",
      "Epoch 2/10\n",
      "143613/143613 [==============================] - 126s 874us/step - loss: 0.0504 - auc: 0.9670 - val_loss: 0.0463 - val_auc: 0.9720\n",
      "Epoch 3/10\n",
      "143613/143613 [==============================] - 127s 886us/step - loss: 0.0442 - auc: 0.9752 - val_loss: 0.0467 - val_auc: 0.9774\n"
     ]
    }
   ],
   "source": [
    "with tf.device('/gpu:0'):\n",
    "    history2 = model2.fit(X_train,y_train,batch_size=256,epochs=10,validation_data=(X_val, y_val), callbacks=[early])"
   ]
  },
  {
   "cell_type": "code",
   "execution_count": 44,
   "metadata": {},
   "outputs": [
    {
     "data": {
      "image/png": "[encoded data removed]",
      "text/plain": [
       "<Figure size 432x288 with 1 Axes>"
      ]
     },
     "metadata": {},
     "output_type": "display_data"
    }
   ],
   "source": [
    "plt.plot(history2.history['auc'], label=\"AUC\")\n",
    "plt.plot(history2.history['val_auc'], label=\"Validation AUC\")\n",
    "plt.legend()\n",
    "plt.show()"
   ]
  },
  {
   "cell_type": "code",
   "execution_count": 45,
   "metadata": {},
   "outputs": [
    {
     "data": {
      "image/png": "[encoded data removed]",
      "text/plain": [
       "<Figure size 432x288 with 1 Axes>"
      ]
     },
     "metadata": {},
     "output_type": "display_data"
    }
   ],
   "source": [
    "plt.plot(history2.history['loss'], label=\"Loss\")\n",
    "plt.plot(history2.history['val_loss'], label=\"Validation Loss\")\n",
    "plt.legend()\n",
    "plt.show()"
   ]
  },
  {
   "cell_type": "code",
   "execution_count": 46,
   "metadata": {},
   "outputs": [
    {
     "name": "stdout",
     "output_type": "stream",
     "text": [
      "Validation Precision: [0.85159285159285159, 0.84300791556728227, 0.59999999999999998, 0.77041602465331283, 0.7142857142857143],\n",
      "\n",
      "Validation Recall: [0.75482093663911842, 0.78694581280788178, 0.066666666666666666, 0.67114093959731547, 0.29914529914529914]\n"
     ]
    }
   ],
   "source": [
    "val_predict2 = (np.asarray(model2.predict([X_val], batch_size=512))).round()\n",
    "\n",
    "val_precision2 = []\n",
    "val_recall2 = []\n",
    "for i in range(5):\n",
    "    val_precision2.append(metrics.precision_score(val_target[:,i], val_predict2[:,i]))\n",
    "    val_recall2.append(metrics.recall_score(val_target[:,i], val_predict2[:,i]))\n",
    "\n",
    "print(\"Validation Precision: {},\\n\\nValidation Recall: {}\".format(val_precision2, val_recall2))"
   ]
  },
  {
   "cell_type": "code",
   "execution_count": 47,
   "metadata": {},
   "outputs": [
    {
     "data": {
      "image/png": "[encoded data removed]",
      "text/plain": [
       "<Figure size 432x288 with 1 Axes>"
      ]
     },
     "metadata": {},
     "output_type": "display_data"
    }
   ],
   "source": [
    "plt.bar(np.arange(5) - 0.3/2,val_precision,0.3,label=\"Baseline Validation Precision\", tick_label=names)\n",
    "plt.bar(np.arange(5) + 0.3/2,val_precision2,0.3,label=\"GRU Validation Precision\", tick_label=names)\n",
    "plt.legend(loc='right', bbox_to_anchor=(1.6,0.5))\n",
    "plt.show()"
   ]
  },
  {
   "cell_type": "code",
   "execution_count": 48,
   "metadata": {},
   "outputs": [
    {
     "data": {
      "image/png": "[encoded data removed]",
      "text/plain": [
       "<Figure size 432x288 with 1 Axes>"
      ]
     },
     "metadata": {},
     "output_type": "display_data"
    }
   ],
   "source": [
    "plt.bar(np.arange(5) - 0.3/2,val_recall,0.3,label=\"Baseline Validation Recall\", tick_label=names)\n",
    "plt.bar(np.arange(5) + 0.3/2,val_recall2,0.3,label=\"GRU Validation Recall\", tick_label=names)\n",
    "plt.legend(loc='right', bbox_to_anchor=(1.55,0.5))\n",
    "plt.show()"
   ]
  },
  {
   "cell_type": "markdown",
   "metadata": {},
   "source": [
    "# Use Pre-trained Embedding - GoogleNews Negative 3mil"
   ]
  },
  {
   "cell_type": "code",
   "execution_count": 49,
   "metadata": {},
   "outputs": [
    {
     "name": "stderr",
     "output_type": "stream",
     "text": [
      "C:\\Users\\insuf\\AppData\\Local\\conda\\conda\\envs\\python352\\lib\\site-packages\\ipykernel_launcher.py:6: DeprecationWarning: Call to deprecated `wv` (Attribute will be removed in 4.0.0, use self instead).\n",
      "  \n",
      "C:\\Users\\insuf\\AppData\\Local\\conda\\conda\\envs\\python352\\lib\\site-packages\\ipykernel_launcher.py:7: DeprecationWarning: Call to deprecated `wv` (Attribute will be removed in 4.0.0, use self instead).\n",
      "  import sys\n"
     ]
    },
    {
     "name": "stdout",
     "output_type": "stream",
     "text": [
      "Loaded 3000000 word vectors.\n",
      "total embedded: 17855 common words\n"
     ]
    }
   ],
   "source": [
    "word2vecDict = gensim.models.keyedvectors.KeyedVectors.load_word2vec_format(\n",
    "    r\"C:\\Users\\insuf\\Desktop\\GoogleNews-vectors-negative300.bin\", binary=True)\n",
    "\n",
    "embed_size = 300\n",
    "embeddings_index = dict()\n",
    "for word in word2vecDict.wv.vocab:\n",
    "    embeddings_index[word] = word2vecDict.wv[word]\n",
    "print('Loaded %s word vectors.' % len(embeddings_index))\n",
    "\n",
    "nb_words = min(max_features, len(tokenizer.word_index))\n",
    "embedding_matrix = np.zeros((nb_words, embed_size))\n",
    "\n",
    "embeddedCount = 0\n",
    "for word, i in tokenizer.word_index.items():\n",
    "    if i >= max_features: continue\n",
    "    embedding_vector = embeddings_index.get(word)\n",
    "    if embedding_vector is not None:\n",
    "        # words not found in embedding index will be all-zeros.\n",
    "        embedding_matrix[i] = embedding_vector\n",
    "        embeddedCount += 1\n",
    "print('total embedded:',embeddedCount,'common words')"
   ]
  },
  {
   "cell_type": "code",
   "execution_count": 50,
   "metadata": {},
   "outputs": [
    {
     "name": "stdout",
     "output_type": "stream",
     "text": [
      "_________________________________________________________________\n",
      "Layer (type)                 Output Shape              Param #   \n",
      "=================================================================\n",
      "embedding_3 (Embedding)      (None, 100, 300)          6000000   \n",
      "_________________________________________________________________\n",
      "bidirectional_3 (Bidirection (None, 200)               320800    \n",
      "_________________________________________________________________\n",
      "dense_5 (Dense)              (None, 50)                10050     \n",
      "_________________________________________________________________\n",
      "dropout_3 (Dropout)          (None, 50)                0         \n",
      "_________________________________________________________________\n",
      "dense_6 (Dense)              (None, 5)                 255       \n",
      "=================================================================\n",
      "Total params: 6,331,105\n",
      "Trainable params: 6,331,105\n",
      "Non-trainable params: 0\n",
      "_________________________________________________________________\n"
     ]
    }
   ],
   "source": [
    "model3 = Sequential()\n",
    "model3.add(Embedding(max_features,embed_size,weights=[embedding_matrix],input_length=maxlen))\n",
    "model3.add(Bidirectional(LSTM(100,dropout=0.1,recurrent_dropout=0.1)))\n",
    "model3.add(Dense(50, activation=\"relu\"))\n",
    "model3.add(Dropout(0.1))\n",
    "model3.add(Dense(5, activation=\"sigmoid\"))\n",
    "model3.compile(loss='binary_crossentropy',optimizer='adam',metrics=[auc])\n",
    "model3.summary()"
   ]
  },
  {
   "cell_type": "code",
   "execution_count": 51,
   "metadata": {},
   "outputs": [
    {
     "name": "stdout",
     "output_type": "stream",
     "text": [
      "Train on 143613 samples, validate on 15958 samples\n",
      "Epoch 1/10\n",
      "143613/143613 [==============================] - 162s 1ms/step - loss: 0.0937 - auc: 0.8373 - val_loss: 0.0518 - val_auc: 0.9411\n",
      "Epoch 2/10\n",
      "143613/143613 [==============================] - 165s 1ms/step - loss: 0.0538 - auc: 0.9558 - val_loss: 0.0479 - val_auc: 0.9638\n",
      "Epoch 3/10\n",
      "143613/143613 [==============================] - 158s 1ms/step - loss: 0.0467 - auc: 0.9687 - val_loss: 0.0479 - val_auc: 0.9722\n"
     ]
    }
   ],
   "source": [
    "with tf.device('/gpu:0'):\n",
    "    history3 = model3.fit(X_train,y_train,batch_size=256,epochs=10,validation_data=(X_val, y_val), callbacks=[early])"
   ]
  },
  {
   "cell_type": "code",
   "execution_count": 52,
   "metadata": {},
   "outputs": [
    {
     "data": {
      "image/png": "[encoded data removed]",
      "text/plain": [
       "<Figure size 432x288 with 1 Axes>"
      ]
     },
     "metadata": {},
     "output_type": "display_data"
    }
   ],
   "source": [
    "plt.plot(history3.history['auc'], label=\"AUC\")\n",
    "plt.plot(history3.history['val_auc'], label=\"Validation AUC\")\n",
    "plt.legend()\n",
    "plt.show()"
   ]
  },
  {
   "cell_type": "code",
   "execution_count": 53,
   "metadata": {},
   "outputs": [
    {
     "data": {
      "image/png": "[encoded data removed]",
      "text/plain": [
       "<Figure size 432x288 with 1 Axes>"
      ]
     },
     "metadata": {},
     "output_type": "display_data"
    }
   ],
   "source": [
    "plt.plot(history3.history['loss'], label=\"Loss\")\n",
    "plt.plot(history3.history['val_loss'], label=\"Validation Loss\")\n",
    "plt.legend()\n",
    "plt.show()"
   ]
  },
  {
   "cell_type": "code",
   "execution_count": 54,
   "metadata": {},
   "outputs": [
    {
     "name": "stdout",
     "output_type": "stream",
     "text": [
      "Validation Precision: [0.81209964412811386, 0.86330935251798557, 0.0, 0.75497702909647779, 0.6875],\n",
      "\n",
      "Validation Recall: [0.78581267217630857, 0.73891625615763545, 0.0, 0.661744966442953, 0.18803418803418803]\n"
     ]
    },
    {
     "name": "stderr",
     "output_type": "stream",
     "text": [
      "C:\\Users\\insuf\\AppData\\Local\\conda\\conda\\envs\\python352\\lib\\site-packages\\sklearn\\metrics\\classification.py:1135: UndefinedMetricWarning: Precision is ill-defined and being set to 0.0 due to no predicted samples.\n",
      "  'precision', 'predicted', average, warn_for)\n"
     ]
    }
   ],
   "source": [
    "val_predict3 = (np.asarray(model3.predict([X_val], batch_size=512))).round()\n",
    "\n",
    "val_precision3 = []\n",
    "val_recall3 = []\n",
    "for i in range(5):\n",
    "    val_precision3.append(metrics.precision_score(val_target[:,i], val_predict3[:,i]))\n",
    "    val_recall3.append(metrics.recall_score(val_target[:,i], val_predict3[:,i]))\n",
    "\n",
    "print(\"Validation Precision: {},\\n\\nValidation Recall: {}\".format(val_precision3, val_recall3))"
   ]
  },
  {
   "cell_type": "code",
   "execution_count": 55,
   "metadata": {},
   "outputs": [
    {
     "data": {
      "image/png": "[encoded data removed]",
      "text/plain": [
       "<Figure size 432x288 with 1 Axes>"
      ]
     },
     "metadata": {},
     "output_type": "display_data"
    }
   ],
   "source": [
    "plt.bar(np.arange(5) - 0.3/2,val_precision,0.3,label=\"Baseline Validation Precision\", tick_label=names)\n",
    "plt.bar(np.arange(5) + 0.3/2,val_precision3,0.3,label=\"GoogleNews Validation Precision\", tick_label=names)\n",
    "plt.legend(loc='right', bbox_to_anchor=(1.6,0.5))\n",
    "plt.show()"
   ]
  },
  {
   "cell_type": "code",
   "execution_count": 57,
   "metadata": {},
   "outputs": [
    {
     "data": {
      "image/png": "[encoded data removed]",
      "text/plain": [
       "<Figure size 432x288 with 1 Axes>"
      ]
     },
     "metadata": {},
     "output_type": "display_data"
    }
   ],
   "source": [
    "plt.bar(np.arange(5) - 0.3/2,val_recall,0.3,label=\"Baseline Validation Recall\", tick_label=names)\n",
    "plt.bar(np.arange(5) + 0.3/2,val_recall3,0.3,label=\"GoogleNews Validation Recall\", tick_label=names)\n",
    "plt.legend(loc='right', bbox_to_anchor=(1.55,0.5))\n",
    "plt.show()"
   ]
  },
  {
   "cell_type": "markdown",
   "metadata": {},
   "source": [
    "# Glove Twitter 27B"
   ]
  },
  {
   "cell_type": "code",
   "execution_count": 58,
   "metadata": {},
   "outputs": [],
   "source": [
    "# from gensim.scripts.glove2word2vec import glove2word2vec\n",
    "# glove2word2vec(r\"C:\\Users\\insuf\\Desktop\\glove.twitter.27B.25d.txt\", r\"C:\\Users\\insuf\\Desktop\\glove.twitter.27B.25d.w2v.txt\")"
   ]
  },
  {
   "cell_type": "code",
   "execution_count": 59,
   "metadata": {},
   "outputs": [
    {
     "name": "stderr",
     "output_type": "stream",
     "text": [
      "C:\\Users\\insuf\\AppData\\Local\\conda\\conda\\envs\\python352\\lib\\site-packages\\ipykernel_launcher.py:5: DeprecationWarning: Call to deprecated `wv` (Attribute will be removed in 4.0.0, use self instead).\n",
      "  \"\"\"\n",
      "C:\\Users\\insuf\\AppData\\Local\\conda\\conda\\envs\\python352\\lib\\site-packages\\ipykernel_launcher.py:6: DeprecationWarning: Call to deprecated `wv` (Attribute will be removed in 4.0.0, use self instead).\n",
      "  \n"
     ]
    },
    {
     "name": "stdout",
     "output_type": "stream",
     "text": [
      "Loaded 1193515 word vectors.\n",
      "total embedded: 18569 common words\n"
     ]
    }
   ],
   "source": [
    "glove = gensim.models.keyedvectors.KeyedVectors.load_word2vec_format(r\"C:\\Users\\insuf\\Desktop\\glove.twitter.27B.25d.w2v.txt\")\n",
    "\n",
    "embed_size = 25\n",
    "embeddings_index = dict()\n",
    "for word in glove.wv.vocab:\n",
    "    embeddings_index[word] = glove.wv[word]\n",
    "print('Loaded %s word vectors.' % len(embeddings_index))\n",
    "\n",
    "nb_words = min(max_features, len(tokenizer.word_index))\n",
    "embedding_matrix = np.zeros((nb_words, embed_size))\n",
    "\n",
    "embeddedCount = 0\n",
    "for word, i in tokenizer.word_index.items():\n",
    "    if i >= max_features: continue\n",
    "    embedding_vector = embeddings_index.get(word)\n",
    "    if embedding_vector is not None:\n",
    "        # words not found in embedding index will be all-zeros.\n",
    "        embedding_matrix[i] = embedding_vector\n",
    "        embeddedCount += 1\n",
    "print('total embedded:',embeddedCount,'common words')"
   ]
  },
  {
   "cell_type": "code",
   "execution_count": 60,
   "metadata": {},
   "outputs": [
    {
     "name": "stdout",
     "output_type": "stream",
     "text": [
      "_________________________________________________________________\n",
      "Layer (type)                 Output Shape              Param #   \n",
      "=================================================================\n",
      "embedding_4 (Embedding)      (None, 100, 25)           500000    \n",
      "_________________________________________________________________\n",
      "bidirectional_4 (Bidirection (None, 200)               100800    \n",
      "_________________________________________________________________\n",
      "dense_7 (Dense)              (None, 50)                10050     \n",
      "_________________________________________________________________\n",
      "dropout_4 (Dropout)          (None, 50)                0         \n",
      "_________________________________________________________________\n",
      "dense_8 (Dense)              (None, 5)                 255       \n",
      "=================================================================\n",
      "Total params: 611,105\n",
      "Trainable params: 611,105\n",
      "Non-trainable params: 0\n",
      "_________________________________________________________________\n"
     ]
    }
   ],
   "source": [
    "model4 = Sequential()\n",
    "model4.add(Embedding(max_features,embed_size,weights=[embedding_matrix],input_length=maxlen))\n",
    "model4.add(Bidirectional(LSTM(100,dropout=0.1,recurrent_dropout=0.1)))\n",
    "model4.add(Dense(50, activation=\"relu\"))\n",
    "model4.add(Dropout(0.1))\n",
    "model4.add(Dense(5, activation=\"sigmoid\"))\n",
    "model4.compile(loss='binary_crossentropy',optimizer='adam',metrics=[auc])\n",
    "model4.summary()"
   ]
  },
  {
   "cell_type": "code",
   "execution_count": 61,
   "metadata": {},
   "outputs": [
    {
     "name": "stdout",
     "output_type": "stream",
     "text": [
      "Train on 143613 samples, validate on 15958 samples\n",
      "Epoch 1/10\n",
      "143613/143613 [==============================] - 155s 1ms/step - loss: 0.1022 - auc: 0.8204 - val_loss: 0.0560 - val_auc: 0.9273\n",
      "Epoch 2/10\n",
      "143613/143613 [==============================] - 149s 1ms/step - loss: 0.0609 - auc: 0.9451 - val_loss: 0.0512 - val_auc: 0.9552\n",
      "Epoch 3/10\n",
      "143613/143613 [==============================] - 147s 1ms/step - loss: 0.0562 - auc: 0.9605 - val_loss: 0.0507 - val_auc: 0.9641\n",
      "Epoch 4/10\n",
      "143613/143613 [==============================] - 150s 1ms/step - loss: 0.0533 - auc: 0.9668 - val_loss: 0.0488 - val_auc: 0.9689\n",
      "Epoch 5/10\n",
      "143613/143613 [==============================] - 151s 1ms/step - loss: 0.0509 - auc: 0.9707 - val_loss: 0.0476 - val_auc: 0.9722\n",
      "Epoch 6/10\n",
      "143613/143613 [==============================] - 150s 1ms/step - loss: 0.0486 - auc: 0.9735 - val_loss: 0.0472 - val_auc: 0.9745\n",
      "Epoch 7/10\n",
      "143613/143613 [==============================] - 151s 1ms/step - loss: 0.0468 - auc: 0.9755 - val_loss: 0.0474 - val_auc: 0.9764\n"
     ]
    }
   ],
   "source": [
    "with tf.device('/gpu:0'):\n",
    "    history4 = model4.fit(X_train,y_train,batch_size=256,epochs=10,validation_data=(X_val, y_val), callbacks=[early])"
   ]
  },
  {
   "cell_type": "code",
   "execution_count": 62,
   "metadata": {},
   "outputs": [
    {
     "data": {
      "image/png": "[encoded data removed]",
      "text/plain": [
       "<Figure size 432x288 with 1 Axes>"
      ]
     },
     "metadata": {},
     "output_type": "display_data"
    }
   ],
   "source": [
    "plt.plot(history4.history['auc'], label=\"AUC\")\n",
    "plt.plot(history4.history['val_auc'], label=\"Validation AUC\")\n",
    "plt.legend()\n",
    "plt.show()"
   ]
  },
  {
   "cell_type": "code",
   "execution_count": 63,
   "metadata": {},
   "outputs": [
    {
     "data": {
      "image/png": "[encoded data removed]",
      "text/plain": [
       "<Figure size 432x288 with 1 Axes>"
      ]
     },
     "metadata": {},
     "output_type": "display_data"
    }
   ],
   "source": [
    "plt.plot(history4.history['loss'], label=\"Loss\")\n",
    "plt.plot(history4.history['val_loss'], label=\"Validation Loss\")\n",
    "plt.legend()\n",
    "plt.show()"
   ]
  },
  {
   "cell_type": "code",
   "execution_count": 64,
   "metadata": {},
   "outputs": [
    {
     "name": "stdout",
     "output_type": "stream",
     "text": [
      "Validation Precision: [0.85836575875486376, 0.82170542635658916, 0.0, 0.74891146589259794, 0.68000000000000005],\n",
      "\n",
      "Validation Recall: [0.75964187327823696, 0.78325123152709364, 0.0, 0.69261744966442951, 0.14529914529914531]\n"
     ]
    },
    {
     "name": "stderr",
     "output_type": "stream",
     "text": [
      "C:\\Users\\insuf\\AppData\\Local\\conda\\conda\\envs\\python352\\lib\\site-packages\\sklearn\\metrics\\classification.py:1135: UndefinedMetricWarning: Precision is ill-defined and being set to 0.0 due to no predicted samples.\n",
      "  'precision', 'predicted', average, warn_for)\n"
     ]
    }
   ],
   "source": [
    "val_predict4 = (np.asarray(model4.predict([X_val], batch_size=512))).round()\n",
    "\n",
    "val_precision4 = []\n",
    "val_recall4 = []\n",
    "for i in range(5):\n",
    "    val_precision4.append(metrics.precision_score(val_target[:,i], val_predict4[:,i]))\n",
    "    val_recall4.append(metrics.recall_score(val_target[:,i], val_predict4[:,i]))\n",
    "\n",
    "print(\"Validation Precision: {},\\n\\nValidation Recall: {}\".format(val_precision4, val_recall4))"
   ]
  },
  {
   "cell_type": "code",
   "execution_count": 65,
   "metadata": {},
   "outputs": [
    {
     "data": {
      "image/png": "[encoded data removed]",
      "text/plain": [
       "<Figure size 432x288 with 1 Axes>"
      ]
     },
     "metadata": {},
     "output_type": "display_data"
    }
   ],
   "source": [
    "plt.bar(np.arange(5) - 0.3/2,val_precision,0.3,label=\"Baseline Validation Precision\", tick_label=names)\n",
    "plt.bar(np.arange(5) + 0.3/2,val_precision4,0.3,label=\"GloVe Validation Precision\", tick_label=names)\n",
    "plt.legend(loc='right', bbox_to_anchor=(1.6,0.5))\n",
    "plt.show()"
   ]
  },
  {
   "cell_type": "code",
   "execution_count": 66,
   "metadata": {},
   "outputs": [
    {
     "data": {
      "image/png": "[encoded data removed]",
      "text/plain": [
       "<Figure size 432x288 with 1 Axes>"
      ]
     },
     "metadata": {},
     "output_type": "display_data"
    }
   ],
   "source": [
    "plt.bar(np.arange(5) - 0.3/2,val_recall,0.3,label=\"Baseline Validation Recall\", tick_label=names)\n",
    "plt.bar(np.arange(5) + 0.3/2,val_recall4,0.3,label=\"GloVe Validation Recall\", tick_label=names)\n",
    "plt.legend(loc='right', bbox_to_anchor=(1.55,0.5))\n",
    "plt.show()"
   ]
  },
  {
   "cell_type": "markdown",
   "metadata": {},
   "source": [
    "# add more LSTM nodes"
   ]
  },
  {
   "cell_type": "code",
   "execution_count": 67,
   "metadata": {},
   "outputs": [
    {
     "name": "stdout",
     "output_type": "stream",
     "text": [
      "_________________________________________________________________\n",
      "Layer (type)                 Output Shape              Param #   \n",
      "=================================================================\n",
      "embedding_5 (Embedding)      (None, 100, 25)           500000    \n",
      "_________________________________________________________________\n",
      "bidirectional_5 (Bidirection (None, 400)               361600    \n",
      "_________________________________________________________________\n",
      "dense_9 (Dense)              (None, 100)               40100     \n",
      "_________________________________________________________________\n",
      "dropout_5 (Dropout)          (None, 100)               0         \n",
      "_________________________________________________________________\n",
      "dense_10 (Dense)             (None, 5)                 505       \n",
      "=================================================================\n",
      "Total params: 902,205\n",
      "Trainable params: 902,205\n",
      "Non-trainable params: 0\n",
      "_________________________________________________________________\n"
     ]
    }
   ],
   "source": [
    "model9 = Sequential()\n",
    "model9.add(Embedding(max_features,embed_size,weights=[embedding_matrix],input_length=maxlen))\n",
    "model9.add(Bidirectional(LSTM(200,dropout=0.1,recurrent_dropout=0.1)))\n",
    "model9.add(Dense(100, activation=\"relu\"))\n",
    "model9.add(Dropout(0.1))\n",
    "model9.add(Dense(5, activation=\"sigmoid\"))\n",
    "model9.compile(loss='binary_crossentropy',optimizer='adam',metrics=[auc])\n",
    "model9.summary()"
   ]
  },
  {
   "cell_type": "code",
   "execution_count": 68,
   "metadata": {},
   "outputs": [
    {
     "name": "stdout",
     "output_type": "stream",
     "text": [
      "Train on 143613 samples, validate on 15958 samples\n",
      "Epoch 1/10\n",
      "143613/143613 [==============================] - 152s 1ms/step - loss: 0.0929 - auc: 0.8498 - val_loss: 0.0550 - val_auc: 0.9403\n",
      "Epoch 2/10\n",
      "143613/143613 [==============================] - 147s 1ms/step - loss: 0.0592 - auc: 0.9534 - val_loss: 0.0519 - val_auc: 0.9609\n",
      "Epoch 3/10\n",
      "143613/143613 [==============================] - 155s 1ms/step - loss: 0.0549 - auc: 0.9652 - val_loss: 0.0500 - val_auc: 0.9681\n",
      "Epoch 4/10\n",
      "143613/143613 [==============================] - 162s 1ms/step - loss: 0.0517 - auc: 0.9703 - val_loss: 0.0473 - val_auc: 0.9721\n",
      "Epoch 5/10\n",
      "143613/143613 [==============================] - 146s 1ms/step - loss: 0.0491 - auc: 0.9736 - val_loss: 0.0469 - val_auc: 0.9749\n",
      "Epoch 6/10\n",
      "143613/143613 [==============================] - 146s 1ms/step - loss: 0.0469 - auc: 0.9760 - val_loss: 0.0468 - val_auc: 0.9769\n",
      "Epoch 7/10\n",
      "143613/143613 [==============================] - 145s 1ms/step - loss: 0.0449 - auc: 0.9778 - val_loss: 0.0473 - val_auc: 0.9785\n"
     ]
    }
   ],
   "source": [
    "with tf.device('/gpu:0'):\n",
    "    history9 = model9.fit(X_train,y_train,batch_size=256,epochs=10,validation_data=(X_val, y_val), callbacks=[early])"
   ]
  },
  {
   "cell_type": "code",
   "execution_count": 69,
   "metadata": {},
   "outputs": [
    {
     "name": "stdout",
     "output_type": "stream",
     "text": [
      "Validation Precision: [0.85225505443234839, 0.85402455661664389, 0.0, 0.76453055141579729, 0.59154929577464788],\n",
      "\n",
      "Validation Recall: [0.75482093663911842, 0.77093596059113301, 0.0, 0.68859060402684569, 0.35897435897435898]\n"
     ]
    }
   ],
   "source": [
    "val_predict9 = (np.asarray(model9.predict([X_val], batch_size=512))).round()\n",
    "\n",
    "val_precision9 = []\n",
    "val_recall9 = []\n",
    "for i in range(5):\n",
    "    val_precision9.append(metrics.precision_score(val_target[:,i], val_predict9[:,i]))\n",
    "    val_recall9.append(metrics.recall_score(val_target[:,i], val_predict9[:,i]))\n",
    "\n",
    "print(\"Validation Precision: {},\\n\\nValidation Recall: {}\".format(val_precision9, val_recall9))"
   ]
  },
  {
   "cell_type": "code",
   "execution_count": 70,
   "metadata": {},
   "outputs": [
    {
     "data": {
      "image/png": "[encoded data removed]",
      "text/plain": [
       "<Figure size 432x288 with 1 Axes>"
      ]
     },
     "metadata": {},
     "output_type": "display_data"
    }
   ],
   "source": [
    "plt.bar(np.arange(5)-0.3/2, val_precision9, 0.3, label=\"Baseline Validation Precision\", tick_label=names)\n",
    "plt.bar(np.arange(5)+0.3/2, val_recall9, 0.3, label=\"Baseline Validation Recall\", tick_label=names)\n",
    "\n",
    "plt.legend(loc='right', bbox_to_anchor=(1.6,0.5))\n",
    "plt.show()"
   ]
  },
  {
   "cell_type": "code",
   "execution_count": 71,
   "metadata": {},
   "outputs": [
    {
     "data": {
      "image/png": "[encoded data removed]",
      "text/plain": [
       "<Figure size 432x288 with 1 Axes>"
      ]
     },
     "metadata": {},
     "output_type": "display_data"
    }
   ],
   "source": [
    "plt.bar(np.arange(5)-0.3/2, val_precision, 0.3, label=\"Baseline 100 Validation Precision\", tick_label=names)\n",
    "plt.bar(np.arange(5)+0.3/2, val_precision9, 0.3, label=\"Baseline 200 Validation Precision\", tick_label=names)\n",
    "\n",
    "plt.legend(loc='right', bbox_to_anchor=(1.65,0.5))\n",
    "plt.show()"
   ]
  },
  {
   "cell_type": "code",
   "execution_count": 73,
   "metadata": {},
   "outputs": [
    {
     "data": {
      "image/png": "[encoded data removed]",
      "text/plain": [
       "<Figure size 432x288 with 1 Axes>"
      ]
     },
     "metadata": {},
     "output_type": "display_data"
    }
   ],
   "source": [
    "plt.bar(np.arange(5)-0.3/2, val_recall, 0.3, label=\"Baseline 100 Validation Recall\", tick_label=names)\n",
    "plt.bar(np.arange(5)+0.3/2, val_recall9, 0.3, label=\"Baseline 200 Validation Recall\", tick_label=names)\n",
    "\n",
    "plt.legend(loc='right', bbox_to_anchor=(1.6,0.5))\n",
    "plt.show()"
   ]
  },
  {
   "cell_type": "markdown",
   "metadata": {},
   "source": [
    "# Penalizing loss"
   ]
  },
  {
   "cell_type": "code",
   "execution_count": 123,
   "metadata": {},
   "outputs": [
    {
     "name": "stdout",
     "output_type": "stream",
     "text": [
      "_________________________________________________________________\n",
      "Layer (type)                 Output Shape              Param #   \n",
      "=================================================================\n",
      "embedding_12 (Embedding)     (None, 100, 25)           500000    \n",
      "_________________________________________________________________\n",
      "bidirectional_12 (Bidirectio (None, 200)               100800    \n",
      "_________________________________________________________________\n",
      "dense_23 (Dense)             (None, 50)                10050     \n",
      "_________________________________________________________________\n",
      "dropout_12 (Dropout)         (None, 50)                0         \n",
      "_________________________________________________________________\n",
      "dense_24 (Dense)             (None, 5)                 255       \n",
      "=================================================================\n",
      "Total params: 611,105\n",
      "Trainable params: 611,105\n",
      "Non-trainable params: 0\n",
      "_________________________________________________________________\n"
     ]
    }
   ],
   "source": [
    "model5 = Sequential()\n",
    "model5.add(Embedding(max_features,embed_size,weights=[embedding_matrix],input_length=maxlen))\n",
    "model5.add(Bidirectional(LSTM(100,dropout=0.1,recurrent_dropout=0.1)))\n",
    "model5.add(Dense(50, activation=\"relu\"))\n",
    "model5.add(Dropout(0.1))\n",
    "model5.add(Dense(5, activation=\"sigmoid\"))\n",
    "model5.compile(loss='binary_crossentropy',optimizer='adam',metrics=[auc])\n",
    "model5.summary()"
   ]
  },
  {
   "cell_type": "code",
   "execution_count": 124,
   "metadata": {},
   "outputs": [],
   "source": [
    "early = EarlyStopping(monitor=\"val_loss\", mode=\"min\", patience=3)"
   ]
  },
  {
   "cell_type": "code",
   "execution_count": 84,
   "metadata": {},
   "outputs": [],
   "source": [
    "# cw = {0:1, 1:10, 2:17, 3:300, 4:18, 5:102}"
   ]
  },
  {
   "cell_type": "code",
   "execution_count": 125,
   "metadata": {},
   "outputs": [],
   "source": [
    "import math\n",
    "def create_class_weight(labels_dict,mu=0.15):\n",
    "    total = sum(labels_dict.values())\n",
    "    keys = labels_dict.keys()\n",
    "    class_weight = dict()\n",
    "\n",
    "    for key in keys:\n",
    "        score = math.log(mu*total/float(labels_dict[key]))\n",
    "        class_weight[key] = score if score > 1.0 else 1.0\n",
    "\n",
    "    return class_weight\n",
    "\n",
    "labels_dict = {0: 143346, 1: 15294, 2: 8449, 3: 478, 4: 7877, 5: 1405}\n",
    "cw = create_class_weight(labels_dict)"
   ]
  },
  {
   "cell_type": "code",
   "execution_count": 127,
   "metadata": {},
   "outputs": [
    {
     "name": "stdout",
     "output_type": "stream",
     "text": [
      "Train on 143613 samples, validate on 15958 samples\n",
      "Epoch 1/100\n",
      "143613/143613 [==============================] - 176s 1ms/step - loss: 0.1085 - auc: 0.8128 - val_loss: 0.0602 - val_auc: 0.9276\n",
      "Epoch 2/100\n",
      "143613/143613 [==============================] - 167s 1ms/step - loss: 0.0657 - auc: 0.9452 - val_loss: 0.0516 - val_auc: 0.9554\n",
      "Epoch 3/100\n",
      "143613/143613 [==============================] - 161s 1ms/step - loss: 0.0610 - auc: 0.9607 - val_loss: 0.0505 - val_auc: 0.9644\n",
      "Epoch 4/100\n",
      "143613/143613 [==============================] - 168s 1ms/step - loss: 0.0579 - auc: 0.9671 - val_loss: 0.0487 - val_auc: 0.9692\n",
      "Epoch 5/100\n",
      "143613/143613 [==============================] - 168s 1ms/step - loss: 0.0554 - auc: 0.9709 - val_loss: 0.0475 - val_auc: 0.9724\n",
      "Epoch 6/100\n",
      "143613/143613 [==============================] - 160s 1ms/step - loss: 0.0529 - auc: 0.9736 - val_loss: 0.0471 - val_auc: 0.9748\n",
      "Epoch 7/100\n",
      "143613/143613 [==============================] - 163s 1ms/step - loss: 0.0509 - auc: 0.9757 - val_loss: 0.0472 - val_auc: 0.9766\n",
      "Epoch 8/100\n",
      "143613/143613 [==============================] - 166s 1ms/step - loss: 0.0489 - auc: 0.9774 - val_loss: 0.0476 - val_auc: 0.9781\n",
      "Epoch 9/100\n",
      "143613/143613 [==============================] - 170s 1ms/step - loss: 0.0468 - auc: 0.9788 - val_loss: 0.0479 - val_auc: 0.9794\n"
     ]
    }
   ],
   "source": [
    "with tf.device('/gpu:0'):\n",
    "    history = model5.fit(X_train,y_train,\n",
    "                        validation_data=(X_val, y_val),\n",
    "                        batch_size=256,\n",
    "                        epochs=100,\n",
    "                        class_weight=cw,\n",
    "                        callbacks=[early])"
   ]
  },
  {
   "cell_type": "code",
   "execution_count": 131,
   "metadata": {},
   "outputs": [
    {
     "name": "stdout",
     "output_type": "stream",
     "text": [
      "Validation Precision: [0.88314987298899239, 0.80519480519480524, 0.20000000000000001, 0.72037283621837545, 0.61764705882352944],\n",
      "\n",
      "Validation Recall: [0.7183195592286501, 0.83990147783251234, 0.022222222222222223, 0.72617449664429534, 0.35897435897435898]\n"
     ]
    }
   ],
   "source": [
    "val_predict5 = (np.asarray(model5.predict([X_val], batch_size=512))).round()\n",
    "\n",
    "val_precision5 = []\n",
    "val_recall5 = []\n",
    "for i in range(5):\n",
    "    val_precision5.append(metrics.precision_score(val_target[:,i], val_predict5[:,i]))\n",
    "    val_recall5.append(metrics.recall_score(val_target[:,i], val_predict5[:,i]))\n",
    "\n",
    "print(\"Validation Precision: {},\\n\\nValidation Recall: {}\".format(val_precision5, val_recall5))"
   ]
  },
  {
   "cell_type": "code",
   "execution_count": 138,
   "metadata": {},
   "outputs": [
    {
     "data": {
      "image/png": "[encoded data removed]",
      "text/plain": [
       "<Figure size 432x288 with 1 Axes>"
      ]
     },
     "metadata": {},
     "output_type": "display_data"
    }
   ],
   "source": [
    "plt.bar(np.arange(5) - 0.3/2,val_precision5,0.3,label=\"CW Validation Precision\", tick_label=names)\n",
    "plt.bar(np.arange(5) + 0.3/2,val_recall5,0.3,label=\"CW Validation Recall\", tick_label=names)\n",
    "plt.legend(loc='right', bbox_to_anchor=(1.6,0.5))\n",
    "plt.show()"
   ]
  },
  {
   "cell_type": "markdown",
   "metadata": {},
   "source": [
    "# Undersample"
   ]
  },
  {
   "cell_type": "code",
   "execution_count": 93,
   "metadata": {},
   "outputs": [
    {
     "name": "stdout",
     "output_type": "stream",
     "text": [
      "_________________________________________________________________\n",
      "Layer (type)                 Output Shape              Param #   \n",
      "=================================================================\n",
      "embedding_10 (Embedding)     (None, 100, 25)           500000    \n",
      "_________________________________________________________________\n",
      "bidirectional_10 (Bidirectio (None, 200)               100800    \n",
      "_________________________________________________________________\n",
      "dense_19 (Dense)             (None, 50)                10050     \n",
      "_________________________________________________________________\n",
      "dropout_10 (Dropout)         (None, 50)                0         \n",
      "_________________________________________________________________\n",
      "dense_20 (Dense)             (None, 5)                 255       \n",
      "=================================================================\n",
      "Total params: 611,105\n",
      "Trainable params: 611,105\n",
      "Non-trainable params: 0\n",
      "_________________________________________________________________\n"
     ]
    }
   ],
   "source": [
    "model6 = Sequential()\n",
    "model6.add(Embedding(max_features,embed_size,weights=[embedding_matrix],input_length=maxlen))\n",
    "model6.add(Bidirectional(LSTM(100,dropout=0.1,recurrent_dropout=0.1)))\n",
    "model6.add(Dense(50, activation=\"relu\"))\n",
    "model6.add(Dropout(0.1))\n",
    "model6.add(Dense(5, activation=\"sigmoid\"))\n",
    "model6.compile(loss='binary_crossentropy',optimizer='adam',metrics=[auc])\n",
    "model6.summary()"
   ]
  },
  {
   "cell_type": "code",
   "execution_count": 94,
   "metadata": {},
   "outputs": [
    {
     "name": "stdout",
     "output_type": "stream",
     "text": [
      "Train on 27593 samples, validate on 15958 samples\n",
      "Epoch 1/1\n",
      "27593/27593 [==============================] - 34s 1ms/step - loss: 0.3800 - auc: 0.7741 - val_loss: 0.1359 - val_auc: 0.8691\n",
      "Train on 27593 samples, validate on 15958 samples\n",
      "Epoch 1/1\n",
      "27593/27593 [==============================] - 36s 1ms/step - loss: 0.2784 - auc: 0.8937 - val_loss: 0.0811 - val_auc: 0.9092\n",
      "Train on 27593 samples, validate on 15958 samples\n",
      "Epoch 1/1\n",
      "27593/27593 [==============================] - 39s 1ms/step - loss: 0.2432 - auc: 0.9196 - val_loss: 0.0891 - val_auc: 0.9266\n",
      "Train on 27593 samples, validate on 15958 samples\n",
      "Epoch 1/1\n",
      "27593/27593 [==============================] - 38s 1ms/step - loss: 0.2262 - auc: 0.9318 - val_loss: 0.0760 - val_auc: 0.9362\n",
      "Train on 27593 samples, validate on 15958 samples\n",
      "Epoch 1/1\n",
      "27593/27593 [==============================] - 33s 1ms/step - loss: 0.2151 - auc: 0.9398 - val_loss: 0.0731 - val_auc: 0.9427\n",
      "Train on 27593 samples, validate on 15958 samples\n",
      "Epoch 1/1\n",
      "27593/27593 [==============================] - 38s 1ms/step - loss: 0.2070 - auc: 0.9453 - val_loss: 0.0811 - val_auc: 0.9473\n",
      "Train on 27593 samples, validate on 15958 samples\n",
      "Epoch 1/1\n",
      "27593/27593 [==============================] - 37s 1ms/step - loss: 0.2010 - auc: 0.9491 - val_loss: 0.0691 - val_auc: 0.9508\n",
      "Train on 27593 samples, validate on 15958 samples\n",
      "Epoch 1/1\n",
      "27593/27593 [==============================] - 39s 1ms/step - loss: 0.1962 - auc: 0.9524 - val_loss: 0.0683 - val_auc: 0.9538\n",
      "Train on 27593 samples, validate on 15958 samples\n",
      "Epoch 1/1\n",
      "27593/27593 [==============================] - 39s 1ms/step - loss: 0.1903 - auc: 0.9551 - val_loss: 0.0717 - val_auc: 0.9562\n",
      "Train on 27593 samples, validate on 15958 samples\n",
      "Epoch 1/1\n",
      "27593/27593 [==============================] - 37s 1ms/step - loss: 0.1863 - auc: 0.9573 - val_loss: 0.0584 - val_auc: 0.9583\n",
      "Train on 27593 samples, validate on 15958 samples\n",
      "Epoch 1/1\n",
      "27593/27593 [==============================] - 41s 1ms/step - loss: 0.1827 - auc: 0.9593 - val_loss: 0.0644 - val_auc: 0.9602\n",
      "Train on 27593 samples, validate on 15958 samples\n",
      "Epoch 1/1\n",
      "27593/27593 [==============================] - 36s 1ms/step - loss: 0.1774 - auc: 0.9610 - val_loss: 0.0642 - val_auc: 0.9618\n",
      "Train on 27593 samples, validate on 15958 samples\n",
      "Epoch 1/1\n",
      "27593/27593 [==============================] - 41s 1ms/step - loss: 0.1740 - auc: 0.9626 - val_loss: 0.0642 - val_auc: 0.9632\n",
      "Train on 27593 samples, validate on 15958 samples\n",
      "Epoch 1/1\n",
      "27593/27593 [==============================] - 40s 1ms/step - loss: 0.1705 - auc: 0.9639 - val_loss: 0.0702 - val_auc: 0.9645\n",
      "Train on 27593 samples, validate on 15958 samples\n",
      "Epoch 1/1\n",
      "27593/27593 [==============================] - 40s 1ms/step - loss: 0.1679 - auc: 0.9651 - val_loss: 0.0662 - val_auc: 0.9656\n",
      "Train on 27593 samples, validate on 15958 samples\n",
      "Epoch 1/1\n",
      "27593/27593 [==============================] - 38s 1ms/step - loss: 0.1644 - auc: 0.9661 - val_loss: 0.0608 - val_auc: 0.9666\n",
      "Train on 27593 samples, validate on 15958 samples\n",
      "Epoch 1/1\n",
      "27593/27593 [==============================] - 37s 1ms/step - loss: 0.1619 - auc: 0.9671 - val_loss: 0.0592 - val_auc: 0.9676\n",
      "Train on 27593 samples, validate on 15958 samples\n",
      "Epoch 1/1\n",
      "27593/27593 [==============================] - 37s 1ms/step - loss: 0.1583 - auc: 0.9681 - val_loss: 0.0615 - val_auc: 0.9685\n",
      "Train on 27593 samples, validate on 15958 samples\n",
      "Epoch 1/1\n",
      "27593/27593 [==============================] - 39s 1ms/step - loss: 0.1557 - auc: 0.9689 - val_loss: 0.0651 - val_auc: 0.9693\n",
      "Train on 27593 samples, validate on 15958 samples\n",
      "Epoch 1/1\n",
      "27593/27593 [==============================] - 40s 1ms/step - loss: 0.1534 - auc: 0.9697 - val_loss: 0.0620 - val_auc: 0.9701\n",
      "Train on 27593 samples, validate on 15958 samples\n",
      "Epoch 1/1\n",
      "27593/27593 [==============================] - 37s 1ms/step - loss: 0.1505 - auc: 0.9705 - val_loss: 0.0640 - val_auc: 0.9708\n",
      "Train on 27593 samples, validate on 15958 samples\n",
      "Epoch 1/1\n",
      "27593/27593 [==============================] - 32s 1ms/step - loss: 0.1480 - auc: 0.9712 - val_loss: 0.0643 - val_auc: 0.9715\n",
      "Train on 27593 samples, validate on 15958 samples\n",
      "Epoch 1/1\n",
      "27593/27593 [==============================] - 31s 1ms/step - loss: 0.1464 - auc: 0.9718 - val_loss: 0.0599 - val_auc: 0.9721\n",
      "Train on 27593 samples, validate on 15958 samples\n",
      "Epoch 1/1\n",
      "27593/27593 [==============================] - 33s 1ms/step - loss: 0.1431 - auc: 0.9724 - val_loss: 0.0623 - val_auc: 0.9727\n",
      "Train on 27593 samples, validate on 15958 samples\n",
      "Epoch 1/1\n",
      "27593/27593 [==============================] - 32s 1ms/step - loss: 0.1387 - auc: 0.9730 - val_loss: 0.0618 - val_auc: 0.9733\n",
      "Train on 27593 samples, validate on 15958 samples\n",
      "Epoch 1/1\n",
      "27593/27593 [==============================] - 35s 1ms/step - loss: 0.1383 - auc: 0.9736 - val_loss: 0.0646 - val_auc: 0.9738\n",
      "Train on 27593 samples, validate on 15958 samples\n",
      "Epoch 1/1\n",
      "27593/27593 [==============================] - 39s 1ms/step - loss: 0.1351 - auc: 0.9741 - val_loss: 0.0643 - val_auc: 0.9743\n",
      "Train on 27593 samples, validate on 15958 samples\n",
      "Epoch 1/1\n",
      "27593/27593 [==============================] - 33s 1ms/step - loss: 0.1319 - auc: 0.9746 - val_loss: 0.0663 - val_auc: 0.9748\n",
      "Train on 27593 samples, validate on 15958 samples\n",
      "Epoch 1/1\n",
      "27593/27593 [==============================] - 30s 1ms/step - loss: 0.1311 - auc: 0.9751 - val_loss: 0.0637 - val_auc: 0.9753\n",
      "Train on 27593 samples, validate on 15958 samples\n",
      "Epoch 1/1\n",
      "27593/27593 [==============================] - 30s 1ms/step - loss: 0.1275 - auc: 0.9755 - val_loss: 0.0629 - val_auc: 0.9757\n",
      "Train on 27593 samples, validate on 15958 samples\n",
      "Epoch 1/1\n",
      "27593/27593 [==============================] - 31s 1ms/step - loss: 0.1245 - auc: 0.9760 - val_loss: 0.0618 - val_auc: 0.9762\n",
      "Train on 27593 samples, validate on 15958 samples\n",
      "Epoch 1/1\n",
      "27593/27593 [==============================] - 30s 1ms/step - loss: 0.1226 - auc: 0.9764 - val_loss: 0.0684 - val_auc: 0.9766\n",
      "Train on 27593 samples, validate on 15958 samples\n",
      "Epoch 1/1\n",
      "27593/27593 [==============================] - 30s 1ms/step - loss: 0.1200 - auc: 0.9768 - val_loss: 0.0629 - val_auc: 0.9770\n",
      "Train on 27593 samples, validate on 15958 samples\n",
      "Epoch 1/1\n",
      "27593/27593 [==============================] - 31s 1ms/step - loss: 0.1174 - auc: 0.9772 - val_loss: 0.0676 - val_auc: 0.9774\n",
      "Train on 27593 samples, validate on 15958 samples\n",
      "Epoch 1/1\n",
      "27593/27593 [==============================] - 31s 1ms/step - loss: 0.1145 - auc: 0.9776 - val_loss: 0.0689 - val_auc: 0.9777\n",
      "Train on 27593 samples, validate on 15958 samples\n",
      "Epoch 1/1\n",
      "27593/27593 [==============================] - 31s 1ms/step - loss: 0.1124 - auc: 0.9779 - val_loss: 0.0681 - val_auc: 0.9781\n",
      "Train on 27593 samples, validate on 15958 samples\n",
      "Epoch 1/1\n",
      "27593/27593 [==============================] - 31s 1ms/step - loss: 0.1106 - auc: 0.9783 - val_loss: 0.0714 - val_auc: 0.9784\n",
      "Train on 27593 samples, validate on 15958 samples\n",
      "Epoch 1/1\n",
      "27593/27593 [==============================] - 31s 1ms/step - loss: 0.1085 - auc: 0.9786 - val_loss: 0.0659 - val_auc: 0.9788\n",
      "Train on 27593 samples, validate on 15958 samples\n",
      "Epoch 1/1\n",
      "27593/27593 [==============================] - 31s 1ms/step - loss: 0.1050 - auc: 0.9789 - val_loss: 0.0714 - val_auc: 0.9791\n",
      "Train on 27593 samples, validate on 15958 samples\n",
      "Epoch 1/1\n",
      "27593/27593 [==============================] - 30s 1ms/step - loss: 0.1034 - auc: 0.9793 - val_loss: 0.0703 - val_auc: 0.9794\n",
      "Train on 27593 samples, validate on 15958 samples\n",
      "Epoch 1/1\n",
      "27593/27593 [==============================] - 30s 1ms/step - loss: 0.1011 - auc: 0.9796 - val_loss: 0.0761 - val_auc: 0.9797\n",
      "Train on 27593 samples, validate on 15958 samples\n",
      "Epoch 1/1\n",
      "27593/27593 [==============================] - 31s 1ms/step - loss: 0.1002 - auc: 0.9798 - val_loss: 0.0722 - val_auc: 0.9800\n",
      "Train on 27593 samples, validate on 15958 samples\n",
      "Epoch 1/1\n",
      "27593/27593 [==============================] - 30s 1ms/step - loss: 0.0982 - auc: 0.9801 - val_loss: 0.0730 - val_auc: 0.9803\n",
      "Train on 27593 samples, validate on 15958 samples\n",
      "Epoch 1/1\n",
      "27593/27593 [==============================] - 30s 1ms/step - loss: 0.0947 - auc: 0.9804 - val_loss: 0.0728 - val_auc: 0.9805\n",
      "Train on 27593 samples, validate on 15958 samples\n",
      "Epoch 1/1\n"
     ]
    },
    {
     "name": "stdout",
     "output_type": "stream",
     "text": [
      "27593/27593 [==============================] - 30s 1ms/step - loss: 0.0941 - auc: 0.9807 - val_loss: 0.0761 - val_auc: 0.9808\n",
      "Train on 27593 samples, validate on 15958 samples\n",
      "Epoch 1/1\n",
      "27593/27593 [==============================] - 31s 1ms/step - loss: 0.0909 - auc: 0.9809 - val_loss: 0.0749 - val_auc: 0.9810\n",
      "Train on 27593 samples, validate on 15958 samples\n",
      "Epoch 1/1\n",
      "27593/27593 [==============================] - 30s 1ms/step - loss: 0.0887 - auc: 0.9812 - val_loss: 0.0768 - val_auc: 0.9813\n",
      "Train on 27593 samples, validate on 15958 samples\n",
      "Epoch 1/1\n",
      "27593/27593 [==============================] - 30s 1ms/step - loss: 0.0879 - auc: 0.9814 - val_loss: 0.0800 - val_auc: 0.9815\n",
      "Train on 27593 samples, validate on 15958 samples\n",
      "Epoch 1/1\n",
      "27593/27593 [==============================] - 30s 1ms/step - loss: 0.0854 - auc: 0.9816 - val_loss: 0.0788 - val_auc: 0.9817\n",
      "Train on 27593 samples, validate on 15958 samples\n",
      "Epoch 1/1\n",
      "27593/27593 [==============================] - 31s 1ms/step - loss: 0.0840 - auc: 0.9819 - val_loss: 0.0788 - val_auc: 0.9820\n",
      "Train on 27593 samples, validate on 15958 samples\n",
      "Epoch 1/1\n",
      "27593/27593 [==============================] - 30s 1ms/step - loss: 0.0829 - auc: 0.9821 - val_loss: 0.0776 - val_auc: 0.9822\n",
      "Train on 27593 samples, validate on 15958 samples\n",
      "Epoch 1/1\n",
      "27593/27593 [==============================] - 37s 1ms/step - loss: 0.0812 - auc: 0.9823 - val_loss: 0.0807 - val_auc: 0.9824\n",
      "Train on 27593 samples, validate on 15958 samples\n",
      "Epoch 1/1\n",
      "27593/27593 [==============================] - 38s 1ms/step - loss: 0.0794 - auc: 0.9825 - val_loss: 0.0813 - val_auc: 0.9826\n"
     ]
    }
   ],
   "source": [
    "y_majority_index = np.where(np.sum(y_train, axis=1)==0)[0]\n",
    "y_minority_index = np.where(np.sum(y_train, axis=1)!=0)[0]\n",
    "n_undersample = y_majority_index.shape[0]*0.1\n",
    "\n",
    "rauc = []\n",
    "rval_auc = []\n",
    "rloss = []\n",
    "rval_loss = []\n",
    "\n",
    "while True:\n",
    "    index_undersample = np.random.choice(y_majority_index,int(n_undersample),replace=False)\n",
    "    new_index_undersample = np.concatenate([y_minority_index, index_undersample])\n",
    "    x_train_new = X_train[new_index_undersample,:]\n",
    "    y_train_new = y_train[new_index_undersample,:]\n",
    "    with tf.device('/gpu:0'):\n",
    "        hist = model6.fit(x_train_new,y_train_new,validation_data=(X_val, y_val),batch_size=256,epochs=1)\n",
    "    rauc.append(hist.history[\"auc\"])\n",
    "    rval_auc.append(hist.history[\"val_auc\"])\n",
    "    rloss.append(hist.history[\"loss\"])\n",
    "    rval_loss.append(hist.history[\"val_loss\"])\n",
    "    if rval_loss[-1] > rloss[-1]:\n",
    "        break"
   ]
  },
  {
   "cell_type": "code",
   "execution_count": 96,
   "metadata": {},
   "outputs": [
    {
     "name": "stdout",
     "output_type": "stream",
     "text": [
      "Validation Precision: [0.60338345864661658, 0.74263038548752835, 0.31428571428571428, 0.642018779342723, 0.34838709677419355],\n",
      "\n",
      "Validation Recall: [0.88429752066115708, 0.80665024630541871, 0.24444444444444444, 0.73422818791946309, 0.46153846153846156]\n"
     ]
    }
   ],
   "source": [
    "val_predict6 = (np.asarray(model6.predict([X_val], batch_size=512))).round()\n",
    "\n",
    "val_precision6 = []\n",
    "val_recall6 = []\n",
    "for i in range(5):\n",
    "    val_precision6.append(metrics.precision_score(val_target[:,i], val_predict6[:,i]))\n",
    "    val_recall6.append(metrics.recall_score(val_target[:,i], val_predict6[:,i]))\n",
    "\n",
    "print(\"Validation Precision: {},\\n\\nValidation Recall: {}\".format(val_precision6, val_recall6))"
   ]
  },
  {
   "cell_type": "code",
   "execution_count": 139,
   "metadata": {},
   "outputs": [
    {
     "data": {
      "image/png": "[encoded data removed]",
      "text/plain": [
       "<Figure size 432x288 with 1 Axes>"
      ]
     },
     "metadata": {},
     "output_type": "display_data"
    }
   ],
   "source": [
    "plt.bar(np.arange(5) - 0.3/2,val_precision6,0.3,label=\"Baseline Validation Precision\", tick_label=names)\n",
    "plt.bar(np.arange(5) + 0.3/2,val_recall6,0.3,label=\"Undersample Validation Precision\", tick_label=names)\n",
    "plt.legend(loc='right', bbox_to_anchor=(1.65,0.5))\n",
    "plt.show()"
   ]
  },
  {
   "cell_type": "code",
   "execution_count": null,
   "metadata": {},
   "outputs": [],
   "source": []
  },
  {
   "cell_type": "code",
   "execution_count": 113,
   "metadata": {},
   "outputs": [],
   "source": []
  },
  {
   "cell_type": "code",
   "execution_count": 114,
   "metadata": {},
   "outputs": [],
   "source": []
  },
  {
   "cell_type": "code",
   "execution_count": null,
   "metadata": {},
   "outputs": [],
   "source": []
  }
 ],
 "metadata": {
  "kernelspec": {
   "display_name": "Python 3",
   "language": "python",
   "name": "python3"
  },
  "language_info": {
   "codemirror_mode": {
    "name": "ipython",
    "version": 3
   },
   "file_extension": ".py",
   "mimetype": "text/x-python",
   "name": "python",
   "nbconvert_exporter": "python",
   "pygments_lexer": "ipython3",
   "version": "3.5.2"
  }
 },
 "nbformat": 4,
 "nbformat_minor": 2
}
